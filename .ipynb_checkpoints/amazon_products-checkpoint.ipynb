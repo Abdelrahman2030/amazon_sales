{
 "cells": [
  {
   "cell_type": "markdown",
   "id": "3d4b3be7",
   "metadata": {},
   "source": [
    "# Data set description\n",
    "***This is a dataset for amazon sales in india for clothes for the year 2022***\n",
    "\n",
    "### main columns description\n",
    "**Category:**\tType of product. (String)<br>\n",
    "**Size:**\tSize of the product. (String)<br>\n",
    "**Date:**\tDate of the sale. (Date)<br>\n",
    "**Status:**\tStatus of the shipping. (String)<br>\n",
    "**Fulfilment:**\tWho sold it, amazon or a merchant on amazon. (String)<br>\n",
    "**Style:**\tStyle of the product. (String)<br>\n",
    "**SKU:**\tStock Keeping Unit. (String)<br>\n",
    "**ASIN:**\tAmazon Standard Identification Number. (String)<br>\n",
    "**Courier Status:** \tStatus of the courier. (String)<br>\n",
    "**Qty:**\tQuantity of the product. (Integer)<br>\n",
    "**Amount:** \tAmount of the sale. (Float)<br>\n",
    "**B2B:**\tBusiness to business sale. (Boolean)<br>\n",
    "**Currency:**\tThe currency used for the sale. (String)<br>"
   ]
  },
  {
   "cell_type": "code",
   "execution_count": 2,
   "id": "b86a719c",
   "metadata": {},
   "outputs": [],
   "source": [
    "import pandas as pd\n",
    "import matplotlib.pyplot as plt\n",
    "import numpy as np\n",
    "import time\n",
    "import seaborn as sns"
   ]
  },
  {
   "cell_type": "code",
   "execution_count": 3,
   "id": "b368e6fc",
   "metadata": {},
   "outputs": [
    {
     "name": "stderr",
     "output_type": "stream",
     "text": [
      "C:\\Users\\HP\\AppData\\Local\\Temp\\ipykernel_8128\\3200021347.py:1: DtypeWarning: Columns (23) have mixed types. Specify dtype option on import or set low_memory=False.\n",
      "  df = pd.read_csv(\"amazon_sale_report.csv\")\n"
     ]
    }
   ],
   "source": [
    "df = pd.read_csv(\"amazon_sale_report.csv\")\n",
    "pd.set_option(\"display.max_columns\", None)\n",
    "pd.set_option(\"display.max_rows\", 10)"
   ]
  },
  {
   "cell_type": "markdown",
   "id": "de64844e",
   "metadata": {},
   "source": [
    "# Data exploration"
   ]
  },
  {
   "cell_type": "code",
   "execution_count": 4,
   "id": "7c8dc102",
   "metadata": {},
   "outputs": [
    {
     "data": {
      "text/html": [
       "<div>\n",
       "<style scoped>\n",
       "    .dataframe tbody tr th:only-of-type {\n",
       "        vertical-align: middle;\n",
       "    }\n",
       "\n",
       "    .dataframe tbody tr th {\n",
       "        vertical-align: top;\n",
       "    }\n",
       "\n",
       "    .dataframe thead th {\n",
       "        text-align: right;\n",
       "    }\n",
       "</style>\n",
       "<table border=\"1\" class=\"dataframe\">\n",
       "  <thead>\n",
       "    <tr style=\"text-align: right;\">\n",
       "      <th></th>\n",
       "      <th>index</th>\n",
       "      <th>Order ID</th>\n",
       "      <th>Date</th>\n",
       "      <th>Status</th>\n",
       "      <th>Fulfilment</th>\n",
       "      <th>Sales Channel</th>\n",
       "      <th>ship-service-level</th>\n",
       "      <th>Style</th>\n",
       "      <th>SKU</th>\n",
       "      <th>Category</th>\n",
       "      <th>Size</th>\n",
       "      <th>ASIN</th>\n",
       "      <th>Courier Status</th>\n",
       "      <th>Qty</th>\n",
       "      <th>currency</th>\n",
       "      <th>Amount</th>\n",
       "      <th>ship-city</th>\n",
       "      <th>ship-state</th>\n",
       "      <th>ship-postal-code</th>\n",
       "      <th>ship-country</th>\n",
       "      <th>promotion-ids</th>\n",
       "      <th>B2B</th>\n",
       "      <th>fulfilled-by</th>\n",
       "      <th>Unnamed: 22</th>\n",
       "    </tr>\n",
       "  </thead>\n",
       "  <tbody>\n",
       "    <tr>\n",
       "      <th>0</th>\n",
       "      <td>0</td>\n",
       "      <td>405-8078784-5731545</td>\n",
       "      <td>04-30-22</td>\n",
       "      <td>Cancelled</td>\n",
       "      <td>Merchant</td>\n",
       "      <td>Amazon.in</td>\n",
       "      <td>Standard</td>\n",
       "      <td>SET389</td>\n",
       "      <td>SET389-KR-NP-S</td>\n",
       "      <td>Set</td>\n",
       "      <td>S</td>\n",
       "      <td>B09KXVBD7Z</td>\n",
       "      <td>NaN</td>\n",
       "      <td>0</td>\n",
       "      <td>INR</td>\n",
       "      <td>647.62</td>\n",
       "      <td>MUMBAI</td>\n",
       "      <td>MAHARASHTRA</td>\n",
       "      <td>400081.0</td>\n",
       "      <td>IN</td>\n",
       "      <td>NaN</td>\n",
       "      <td>False</td>\n",
       "      <td>Easy Ship</td>\n",
       "      <td>NaN</td>\n",
       "    </tr>\n",
       "    <tr>\n",
       "      <th>1</th>\n",
       "      <td>1</td>\n",
       "      <td>171-9198151-1101146</td>\n",
       "      <td>04-30-22</td>\n",
       "      <td>Shipped - Delivered to Buyer</td>\n",
       "      <td>Merchant</td>\n",
       "      <td>Amazon.in</td>\n",
       "      <td>Standard</td>\n",
       "      <td>JNE3781</td>\n",
       "      <td>JNE3781-KR-XXXL</td>\n",
       "      <td>kurta</td>\n",
       "      <td>3XL</td>\n",
       "      <td>B09K3WFS32</td>\n",
       "      <td>Shipped</td>\n",
       "      <td>1</td>\n",
       "      <td>INR</td>\n",
       "      <td>406.00</td>\n",
       "      <td>BENGALURU</td>\n",
       "      <td>KARNATAKA</td>\n",
       "      <td>560085.0</td>\n",
       "      <td>IN</td>\n",
       "      <td>Amazon PLCC Free-Financing Universal Merchant ...</td>\n",
       "      <td>False</td>\n",
       "      <td>Easy Ship</td>\n",
       "      <td>NaN</td>\n",
       "    </tr>\n",
       "    <tr>\n",
       "      <th>2</th>\n",
       "      <td>2</td>\n",
       "      <td>404-0687676-7273146</td>\n",
       "      <td>04-30-22</td>\n",
       "      <td>Shipped</td>\n",
       "      <td>Amazon</td>\n",
       "      <td>Amazon.in</td>\n",
       "      <td>Expedited</td>\n",
       "      <td>JNE3371</td>\n",
       "      <td>JNE3371-KR-XL</td>\n",
       "      <td>kurta</td>\n",
       "      <td>XL</td>\n",
       "      <td>B07WV4JV4D</td>\n",
       "      <td>Shipped</td>\n",
       "      <td>1</td>\n",
       "      <td>INR</td>\n",
       "      <td>329.00</td>\n",
       "      <td>NAVI MUMBAI</td>\n",
       "      <td>MAHARASHTRA</td>\n",
       "      <td>410210.0</td>\n",
       "      <td>IN</td>\n",
       "      <td>IN Core Free Shipping 2015/04/08 23-48-5-108</td>\n",
       "      <td>True</td>\n",
       "      <td>NaN</td>\n",
       "      <td>NaN</td>\n",
       "    </tr>\n",
       "    <tr>\n",
       "      <th>3</th>\n",
       "      <td>3</td>\n",
       "      <td>403-9615377-8133951</td>\n",
       "      <td>04-30-22</td>\n",
       "      <td>Cancelled</td>\n",
       "      <td>Merchant</td>\n",
       "      <td>Amazon.in</td>\n",
       "      <td>Standard</td>\n",
       "      <td>J0341</td>\n",
       "      <td>J0341-DR-L</td>\n",
       "      <td>Western Dress</td>\n",
       "      <td>L</td>\n",
       "      <td>B099NRCT7B</td>\n",
       "      <td>NaN</td>\n",
       "      <td>0</td>\n",
       "      <td>INR</td>\n",
       "      <td>753.33</td>\n",
       "      <td>PUDUCHERRY</td>\n",
       "      <td>PUDUCHERRY</td>\n",
       "      <td>605008.0</td>\n",
       "      <td>IN</td>\n",
       "      <td>NaN</td>\n",
       "      <td>False</td>\n",
       "      <td>Easy Ship</td>\n",
       "      <td>NaN</td>\n",
       "    </tr>\n",
       "    <tr>\n",
       "      <th>4</th>\n",
       "      <td>4</td>\n",
       "      <td>407-1069790-7240320</td>\n",
       "      <td>04-30-22</td>\n",
       "      <td>Shipped</td>\n",
       "      <td>Amazon</td>\n",
       "      <td>Amazon.in</td>\n",
       "      <td>Expedited</td>\n",
       "      <td>JNE3671</td>\n",
       "      <td>JNE3671-TU-XXXL</td>\n",
       "      <td>Top</td>\n",
       "      <td>3XL</td>\n",
       "      <td>B098714BZP</td>\n",
       "      <td>Shipped</td>\n",
       "      <td>1</td>\n",
       "      <td>INR</td>\n",
       "      <td>574.00</td>\n",
       "      <td>CHENNAI</td>\n",
       "      <td>TAMIL NADU</td>\n",
       "      <td>600073.0</td>\n",
       "      <td>IN</td>\n",
       "      <td>NaN</td>\n",
       "      <td>False</td>\n",
       "      <td>NaN</td>\n",
       "      <td>NaN</td>\n",
       "    </tr>\n",
       "    <tr>\n",
       "      <th>...</th>\n",
       "      <td>...</td>\n",
       "      <td>...</td>\n",
       "      <td>...</td>\n",
       "      <td>...</td>\n",
       "      <td>...</td>\n",
       "      <td>...</td>\n",
       "      <td>...</td>\n",
       "      <td>...</td>\n",
       "      <td>...</td>\n",
       "      <td>...</td>\n",
       "      <td>...</td>\n",
       "      <td>...</td>\n",
       "      <td>...</td>\n",
       "      <td>...</td>\n",
       "      <td>...</td>\n",
       "      <td>...</td>\n",
       "      <td>...</td>\n",
       "      <td>...</td>\n",
       "      <td>...</td>\n",
       "      <td>...</td>\n",
       "      <td>...</td>\n",
       "      <td>...</td>\n",
       "      <td>...</td>\n",
       "      <td>...</td>\n",
       "    </tr>\n",
       "    <tr>\n",
       "      <th>128970</th>\n",
       "      <td>128970</td>\n",
       "      <td>406-6001380-7673107</td>\n",
       "      <td>05-31-22</td>\n",
       "      <td>Shipped</td>\n",
       "      <td>Amazon</td>\n",
       "      <td>Amazon.in</td>\n",
       "      <td>Expedited</td>\n",
       "      <td>JNE3697</td>\n",
       "      <td>JNE3697-KR-XL</td>\n",
       "      <td>kurta</td>\n",
       "      <td>XL</td>\n",
       "      <td>B098112V2V</td>\n",
       "      <td>Shipped</td>\n",
       "      <td>1</td>\n",
       "      <td>INR</td>\n",
       "      <td>517.00</td>\n",
       "      <td>HYDERABAD</td>\n",
       "      <td>TELANGANA</td>\n",
       "      <td>500013.0</td>\n",
       "      <td>IN</td>\n",
       "      <td>NaN</td>\n",
       "      <td>False</td>\n",
       "      <td>NaN</td>\n",
       "      <td>False</td>\n",
       "    </tr>\n",
       "    <tr>\n",
       "      <th>128971</th>\n",
       "      <td>128971</td>\n",
       "      <td>402-9551604-7544318</td>\n",
       "      <td>05-31-22</td>\n",
       "      <td>Shipped</td>\n",
       "      <td>Amazon</td>\n",
       "      <td>Amazon.in</td>\n",
       "      <td>Expedited</td>\n",
       "      <td>SET401</td>\n",
       "      <td>SET401-KR-NP-M</td>\n",
       "      <td>Set</td>\n",
       "      <td>M</td>\n",
       "      <td>B09VC6KHX8</td>\n",
       "      <td>Shipped</td>\n",
       "      <td>1</td>\n",
       "      <td>INR</td>\n",
       "      <td>999.00</td>\n",
       "      <td>GURUGRAM</td>\n",
       "      <td>HARYANA</td>\n",
       "      <td>122004.0</td>\n",
       "      <td>IN</td>\n",
       "      <td>IN Core Free Shipping 2015/04/08 23-48-5-108</td>\n",
       "      <td>False</td>\n",
       "      <td>NaN</td>\n",
       "      <td>False</td>\n",
       "    </tr>\n",
       "    <tr>\n",
       "      <th>128972</th>\n",
       "      <td>128972</td>\n",
       "      <td>407-9547469-3152358</td>\n",
       "      <td>05-31-22</td>\n",
       "      <td>Shipped</td>\n",
       "      <td>Amazon</td>\n",
       "      <td>Amazon.in</td>\n",
       "      <td>Expedited</td>\n",
       "      <td>J0157</td>\n",
       "      <td>J0157-DR-XXL</td>\n",
       "      <td>Western Dress</td>\n",
       "      <td>XXL</td>\n",
       "      <td>B0982YZ51B</td>\n",
       "      <td>Shipped</td>\n",
       "      <td>1</td>\n",
       "      <td>INR</td>\n",
       "      <td>690.00</td>\n",
       "      <td>HYDERABAD</td>\n",
       "      <td>TELANGANA</td>\n",
       "      <td>500049.0</td>\n",
       "      <td>IN</td>\n",
       "      <td>NaN</td>\n",
       "      <td>False</td>\n",
       "      <td>NaN</td>\n",
       "      <td>False</td>\n",
       "    </tr>\n",
       "    <tr>\n",
       "      <th>128973</th>\n",
       "      <td>128973</td>\n",
       "      <td>402-6184140-0545956</td>\n",
       "      <td>05-31-22</td>\n",
       "      <td>Shipped</td>\n",
       "      <td>Amazon</td>\n",
       "      <td>Amazon.in</td>\n",
       "      <td>Expedited</td>\n",
       "      <td>J0012</td>\n",
       "      <td>J0012-SKD-XS</td>\n",
       "      <td>Set</td>\n",
       "      <td>XS</td>\n",
       "      <td>B0894Y2NJQ</td>\n",
       "      <td>Shipped</td>\n",
       "      <td>1</td>\n",
       "      <td>INR</td>\n",
       "      <td>1199.00</td>\n",
       "      <td>Halol</td>\n",
       "      <td>Gujarat</td>\n",
       "      <td>389350.0</td>\n",
       "      <td>IN</td>\n",
       "      <td>IN Core Free Shipping 2015/04/08 23-48-5-108</td>\n",
       "      <td>False</td>\n",
       "      <td>NaN</td>\n",
       "      <td>False</td>\n",
       "    </tr>\n",
       "    <tr>\n",
       "      <th>128974</th>\n",
       "      <td>128974</td>\n",
       "      <td>408-7436540-8728312</td>\n",
       "      <td>05-31-22</td>\n",
       "      <td>Shipped</td>\n",
       "      <td>Amazon</td>\n",
       "      <td>Amazon.in</td>\n",
       "      <td>Expedited</td>\n",
       "      <td>J0003</td>\n",
       "      <td>J0003-SET-S</td>\n",
       "      <td>Set</td>\n",
       "      <td>S</td>\n",
       "      <td>B0894X27FC</td>\n",
       "      <td>Shipped</td>\n",
       "      <td>1</td>\n",
       "      <td>INR</td>\n",
       "      <td>696.00</td>\n",
       "      <td>Raipur</td>\n",
       "      <td>CHHATTISGARH</td>\n",
       "      <td>492014.0</td>\n",
       "      <td>IN</td>\n",
       "      <td>IN Core Free Shipping 2015/04/08 23-48-5-108</td>\n",
       "      <td>False</td>\n",
       "      <td>NaN</td>\n",
       "      <td>False</td>\n",
       "    </tr>\n",
       "  </tbody>\n",
       "</table>\n",
       "<p>128975 rows × 24 columns</p>\n",
       "</div>"
      ],
      "text/plain": [
       "         index             Order ID      Date                        Status  \\\n",
       "0            0  405-8078784-5731545  04-30-22                     Cancelled   \n",
       "1            1  171-9198151-1101146  04-30-22  Shipped - Delivered to Buyer   \n",
       "2            2  404-0687676-7273146  04-30-22                       Shipped   \n",
       "3            3  403-9615377-8133951  04-30-22                     Cancelled   \n",
       "4            4  407-1069790-7240320  04-30-22                       Shipped   \n",
       "...        ...                  ...       ...                           ...   \n",
       "128970  128970  406-6001380-7673107  05-31-22                       Shipped   \n",
       "128971  128971  402-9551604-7544318  05-31-22                       Shipped   \n",
       "128972  128972  407-9547469-3152358  05-31-22                       Shipped   \n",
       "128973  128973  402-6184140-0545956  05-31-22                       Shipped   \n",
       "128974  128974  408-7436540-8728312  05-31-22                       Shipped   \n",
       "\n",
       "       Fulfilment Sales Channel  ship-service-level    Style              SKU  \\\n",
       "0        Merchant      Amazon.in           Standard   SET389   SET389-KR-NP-S   \n",
       "1        Merchant      Amazon.in           Standard  JNE3781  JNE3781-KR-XXXL   \n",
       "2          Amazon      Amazon.in          Expedited  JNE3371    JNE3371-KR-XL   \n",
       "3        Merchant      Amazon.in           Standard    J0341       J0341-DR-L   \n",
       "4          Amazon      Amazon.in          Expedited  JNE3671  JNE3671-TU-XXXL   \n",
       "...           ...            ...                ...      ...              ...   \n",
       "128970     Amazon      Amazon.in          Expedited  JNE3697    JNE3697-KR-XL   \n",
       "128971     Amazon      Amazon.in          Expedited   SET401   SET401-KR-NP-M   \n",
       "128972     Amazon      Amazon.in          Expedited    J0157     J0157-DR-XXL   \n",
       "128973     Amazon      Amazon.in          Expedited    J0012     J0012-SKD-XS   \n",
       "128974     Amazon      Amazon.in          Expedited    J0003      J0003-SET-S   \n",
       "\n",
       "             Category Size        ASIN Courier Status  Qty currency   Amount  \\\n",
       "0                 Set    S  B09KXVBD7Z            NaN    0      INR   647.62   \n",
       "1               kurta  3XL  B09K3WFS32        Shipped    1      INR   406.00   \n",
       "2               kurta   XL  B07WV4JV4D        Shipped    1      INR   329.00   \n",
       "3       Western Dress    L  B099NRCT7B            NaN    0      INR   753.33   \n",
       "4                 Top  3XL  B098714BZP        Shipped    1      INR   574.00   \n",
       "...               ...  ...         ...            ...  ...      ...      ...   \n",
       "128970          kurta   XL  B098112V2V        Shipped    1      INR   517.00   \n",
       "128971            Set    M  B09VC6KHX8        Shipped    1      INR   999.00   \n",
       "128972  Western Dress  XXL  B0982YZ51B        Shipped    1      INR   690.00   \n",
       "128973            Set   XS  B0894Y2NJQ        Shipped    1      INR  1199.00   \n",
       "128974            Set    S  B0894X27FC        Shipped    1      INR   696.00   \n",
       "\n",
       "          ship-city    ship-state  ship-postal-code ship-country  \\\n",
       "0            MUMBAI   MAHARASHTRA          400081.0           IN   \n",
       "1         BENGALURU     KARNATAKA          560085.0           IN   \n",
       "2       NAVI MUMBAI   MAHARASHTRA          410210.0           IN   \n",
       "3        PUDUCHERRY    PUDUCHERRY          605008.0           IN   \n",
       "4           CHENNAI    TAMIL NADU          600073.0           IN   \n",
       "...             ...           ...               ...          ...   \n",
       "128970    HYDERABAD     TELANGANA          500013.0           IN   \n",
       "128971     GURUGRAM       HARYANA          122004.0           IN   \n",
       "128972    HYDERABAD     TELANGANA          500049.0           IN   \n",
       "128973        Halol       Gujarat          389350.0           IN   \n",
       "128974       Raipur  CHHATTISGARH          492014.0           IN   \n",
       "\n",
       "                                            promotion-ids    B2B fulfilled-by  \\\n",
       "0                                                     NaN  False    Easy Ship   \n",
       "1       Amazon PLCC Free-Financing Universal Merchant ...  False    Easy Ship   \n",
       "2            IN Core Free Shipping 2015/04/08 23-48-5-108   True          NaN   \n",
       "3                                                     NaN  False    Easy Ship   \n",
       "4                                                     NaN  False          NaN   \n",
       "...                                                   ...    ...          ...   \n",
       "128970                                                NaN  False          NaN   \n",
       "128971       IN Core Free Shipping 2015/04/08 23-48-5-108  False          NaN   \n",
       "128972                                                NaN  False          NaN   \n",
       "128973       IN Core Free Shipping 2015/04/08 23-48-5-108  False          NaN   \n",
       "128974       IN Core Free Shipping 2015/04/08 23-48-5-108  False          NaN   \n",
       "\n",
       "       Unnamed: 22  \n",
       "0              NaN  \n",
       "1              NaN  \n",
       "2              NaN  \n",
       "3              NaN  \n",
       "4              NaN  \n",
       "...            ...  \n",
       "128970       False  \n",
       "128971       False  \n",
       "128972       False  \n",
       "128973       False  \n",
       "128974       False  \n",
       "\n",
       "[128975 rows x 24 columns]"
      ]
     },
     "execution_count": 4,
     "metadata": {},
     "output_type": "execute_result"
    }
   ],
   "source": [
    "df"
   ]
  },
  {
   "cell_type": "code",
   "execution_count": 5,
   "id": "5fca3868",
   "metadata": {},
   "outputs": [
    {
     "name": "stdout",
     "output_type": "stream",
     "text": [
      "<class 'pandas.core.frame.DataFrame'>\n",
      "RangeIndex: 128975 entries, 0 to 128974\n",
      "Data columns (total 24 columns):\n",
      " #   Column              Non-Null Count   Dtype  \n",
      "---  ------              --------------   -----  \n",
      " 0   index               128975 non-null  int64  \n",
      " 1   Order ID            128975 non-null  object \n",
      " 2   Date                128975 non-null  object \n",
      " 3   Status              128975 non-null  object \n",
      " 4   Fulfilment          128975 non-null  object \n",
      " 5   Sales Channel       128975 non-null  object \n",
      " 6   ship-service-level  128975 non-null  object \n",
      " 7   Style               128975 non-null  object \n",
      " 8   SKU                 128975 non-null  object \n",
      " 9   Category            128975 non-null  object \n",
      " 10  Size                128975 non-null  object \n",
      " 11  ASIN                128975 non-null  object \n",
      " 12  Courier Status      122103 non-null  object \n",
      " 13  Qty                 128975 non-null  int64  \n",
      " 14  currency            121180 non-null  object \n",
      " 15  Amount              121180 non-null  float64\n",
      " 16  ship-city           128942 non-null  object \n",
      " 17  ship-state          128942 non-null  object \n",
      " 18  ship-postal-code    128942 non-null  float64\n",
      " 19  ship-country        128942 non-null  object \n",
      " 20  promotion-ids       79822 non-null   object \n",
      " 21  B2B                 128975 non-null  bool   \n",
      " 22  fulfilled-by        39277 non-null   object \n",
      " 23  Unnamed: 22         79925 non-null   object \n",
      "dtypes: bool(1), float64(2), int64(2), object(19)\n",
      "memory usage: 22.8+ MB\n"
     ]
    }
   ],
   "source": [
    "df.info()"
   ]
  },
  {
   "cell_type": "markdown",
   "id": "215f01bf",
   "metadata": {},
   "source": [
    "***cleaning notes***\n",
    "<br>- change the data type in \"date\" to datetime"
   ]
  },
  {
   "cell_type": "code",
   "execution_count": 6,
   "id": "08c27b20",
   "metadata": {},
   "outputs": [
    {
     "data": {
      "text/plain": [
       "Index(['index', 'Order ID', 'Date', 'Status', 'Fulfilment', 'Sales Channel ',\n",
       "       'ship-service-level', 'Style', 'SKU', 'Category', 'Size', 'ASIN',\n",
       "       'Courier Status', 'Qty', 'currency', 'Amount', 'ship-city',\n",
       "       'ship-state', 'ship-postal-code', 'ship-country', 'promotion-ids',\n",
       "       'B2B', 'fulfilled-by', 'Unnamed: 22'],\n",
       "      dtype='object')"
      ]
     },
     "execution_count": 6,
     "metadata": {},
     "output_type": "execute_result"
    }
   ],
   "source": [
    "df.columns"
   ]
  },
  {
   "cell_type": "code",
   "execution_count": 7,
   "id": "b953d40b",
   "metadata": {},
   "outputs": [
    {
     "data": {
      "text/plain": [
       "Amazon.in     128851\n",
       "Non-Amazon       124\n",
       "Name: Sales Channel , dtype: int64"
      ]
     },
     "execution_count": 7,
     "metadata": {},
     "output_type": "execute_result"
    }
   ],
   "source": [
    "df[\"Sales Channel \"].value_counts()"
   ]
  },
  {
   "cell_type": "markdown",
   "id": "1824f4c6",
   "metadata": {},
   "source": [
    "***Cleaning note***\n",
    "<br>-Since this is supposed to be an amazon dataset so i will remove the rows wich are not amzon, then remove the whole column\n",
    "<br>- I will remove the \"index column\""
   ]
  },
  {
   "cell_type": "code",
   "execution_count": 8,
   "id": "aeb4021c",
   "metadata": {},
   "outputs": [],
   "source": [
    "df = df[df[\"Sales Channel \"] == \"Amazon.in\"]"
   ]
  },
  {
   "cell_type": "code",
   "execution_count": 9,
   "id": "28876d2d",
   "metadata": {},
   "outputs": [
    {
     "data": {
      "text/plain": [
       "Amazon.in    128851\n",
       "Name: Sales Channel , dtype: int64"
      ]
     },
     "execution_count": 9,
     "metadata": {},
     "output_type": "execute_result"
    }
   ],
   "source": [
    "df[\"Sales Channel \"].value_counts()"
   ]
  },
  {
   "cell_type": "code",
   "execution_count": 10,
   "id": "3382a86f",
   "metadata": {},
   "outputs": [
    {
     "data": {
      "text/plain": [
       "Shipped                          77689\n",
       "Shipped - Delivered to Buyer     28769\n",
       "Cancelled                        18331\n",
       "Shipped - Returned to Seller      1953\n",
       "Shipped - Picked Up                973\n",
       "                                 ...  \n",
       "Shipped - Returning to Seller      145\n",
       "Shipped - Out for Delivery          35\n",
       "Shipped - Rejected by Buyer         11\n",
       "Shipped - Lost in Transit            5\n",
       "Shipped - Damaged                    1\n",
       "Name: Status, Length: 12, dtype: int64"
      ]
     },
     "execution_count": 10,
     "metadata": {},
     "output_type": "execute_result"
    }
   ],
   "source": [
    "df[\"Status\"].value_counts()"
   ]
  },
  {
   "cell_type": "markdown",
   "id": "a9102d2f",
   "metadata": {},
   "source": [
    "**Cleaning notes**\n",
    "<br>- \"Shipped\", \"Shipped - Delivered to Buyer\", \"Shipped - Picked Up\", \"Shipped - Out for Delivery\", and \"Shipping\", i will change them to just \"delivered\"\n",
    "<br>- \"Cancelled\" i will keep it the same\n",
    "<br>- \"Shipped - Returned to Seller\", \"Shipped - Returning to Seller\", and \"Shipped - Rejected by Buyer\" i will change them to \"returned\"\n",
    "<br>- \"pending\" and \"Pending - Waiting for Pick Up\" i will make them \"pending\"\n",
    "<br>- \"lost in transit\" i will make it \"lost\"\n",
    "<br>- \"Damaged\" I will remove it becouse it's just one value\n",
    "\n",
    "<br>**Another note**\n",
    "<br>For the \"Shipped - Picked Up\" values this means that it didn't reach the buyer yet, and it's not confirmed wether the buyer accepted it or not, but i will assume that it has been accepted, to be able to continue my analysis"
   ]
  },
  {
   "cell_type": "code",
   "execution_count": 11,
   "id": "c236b823",
   "metadata": {},
   "outputs": [
    {
     "data": {
      "text/plain": [
       "Amazon      89574\n",
       "Merchant    39277\n",
       "Name: Fulfilment, dtype: int64"
      ]
     },
     "execution_count": 11,
     "metadata": {},
     "output_type": "execute_result"
    }
   ],
   "source": [
    "df[\"Fulfilment\"].value_counts()"
   ]
  },
  {
   "cell_type": "code",
   "execution_count": 12,
   "id": "c3bba10a",
   "metadata": {},
   "outputs": [
    {
     "data": {
      "text/plain": [
       "Expedited    88615\n",
       "Standard     40236\n",
       "Name: ship-service-level, dtype: int64"
      ]
     },
     "execution_count": 12,
     "metadata": {},
     "output_type": "execute_result"
    }
   ],
   "source": [
    "df[\"ship-service-level\"].value_counts()"
   ]
  },
  {
   "cell_type": "code",
   "execution_count": 13,
   "id": "5b68e05e",
   "metadata": {},
   "outputs": [
    {
     "data": {
      "image/png": "[encoded data removed]",
      "text/plain": [
       "<Figure size 640x480 with 1 Axes>"
      ]
     },
     "metadata": {},
     "output_type": "display_data"
    }
   ],
   "source": [
    "df[\"ship-service-level\"].value_counts().plot(kind = \"pie\", autopct = \"%1.2f%%\", explode = [0, 0.1])\n",
    "plt.title(\"Shipping types distripution\", size = 13);"
   ]
  },
  {
   "cell_type": "code",
   "execution_count": 14,
   "id": "11df2394",
   "metadata": {},
   "outputs": [
    {
     "data": {
      "text/plain": [
       "Index(['index', 'Order ID', 'Date', 'Status', 'Fulfilment', 'Sales Channel ',\n",
       "       'ship-service-level', 'Style', 'SKU', 'Category', 'Size', 'ASIN',\n",
       "       'Courier Status', 'Qty', 'currency', 'Amount', 'ship-city',\n",
       "       'ship-state', 'ship-postal-code', 'ship-country', 'promotion-ids',\n",
       "       'B2B', 'fulfilled-by', 'Unnamed: 22'],\n",
       "      dtype='object')"
      ]
     },
     "execution_count": 14,
     "metadata": {},
     "output_type": "execute_result"
    }
   ],
   "source": [
    "df.columns"
   ]
  },
  {
   "cell_type": "code",
   "execution_count": 15,
   "id": "e832cbb5",
   "metadata": {},
   "outputs": [
    {
     "data": {
      "text/plain": [
       "Shipped      109487\n",
       "Unshipped      6557\n",
       "Cancelled      5935\n",
       "Name: Courier Status, dtype: int64"
      ]
     },
     "execution_count": 15,
     "metadata": {},
     "output_type": "execute_result"
    }
   ],
   "source": [
    "df[\"Courier Status\"].value_counts()"
   ]
  },
  {
   "cell_type": "code",
   "execution_count": 16,
   "id": "efed29be",
   "metadata": {},
   "outputs": [
    {
     "data": {
      "image/png": "[encoded data removed]",
      "text/plain": [
       "<Figure size 640x480 with 1 Axes>"
      ]
     },
     "metadata": {},
     "output_type": "display_data"
    }
   ],
   "source": [
    "df[\"Qty\"].hist();"
   ]
  },
  {
   "cell_type": "code",
   "execution_count": 17,
   "id": "2dd054e2",
   "metadata": {},
   "outputs": [
    {
     "data": {
      "image/png": "[encoded data removed]",
      "text/plain": [
       "<Figure size 640x480 with 1 Axes>"
      ]
     },
     "metadata": {},
     "output_type": "display_data"
    }
   ],
   "source": [
    "df.query(\"Qty >2\")[\"Qty\"].hist()\n",
    "plt.title(\"order number more than 2 distriputuin\");"
   ]
  },
  {
   "cell_type": "code",
   "execution_count": 18,
   "id": "ed9ec59e",
   "metadata": {},
   "outputs": [
    {
     "data": {
      "text/plain": [
       "INR    121180\n",
       "Name: currency, dtype: int64"
      ]
     },
     "execution_count": 18,
     "metadata": {},
     "output_type": "execute_result"
    }
   ],
   "source": [
    "df[\"currency\"].value_counts()"
   ]
  },
  {
   "cell_type": "markdown",
   "id": "a798dcc0",
   "metadata": {},
   "source": [
    "***since all of the sales are in india so the cuureny is the Indian Rupee***"
   ]
  },
  {
   "cell_type": "code",
   "execution_count": 19,
   "id": "da4df316",
   "metadata": {},
   "outputs": [
    {
     "data": {
      "image/png": "[encoded data removed]",
      "text/plain": [
       "<Figure size 640x480 with 1 Axes>"
      ]
     },
     "metadata": {},
     "output_type": "display_data"
    }
   ],
   "source": [
    "df[\"Amount\"].hist()\n",
    "plt.title(\"The price distripution\");"
   ]
  },
  {
   "cell_type": "code",
   "execution_count": 20,
   "id": "749c3b83",
   "metadata": {},
   "outputs": [
    {
     "data": {
      "text/plain": [
       "IN    128818\n",
       "Name: ship-country, dtype: int64"
      ]
     },
     "execution_count": 20,
     "metadata": {},
     "output_type": "execute_result"
    }
   ],
   "source": [
    "df[\"ship-country\"].value_counts()"
   ]
  },
  {
   "cell_type": "markdown",
   "id": "ecca30b8",
   "metadata": {},
   "source": [
    "***Cleaning note***\n",
    "<br>- all the products are shipped from india so i will just delete this column"
   ]
  },
  {
   "cell_type": "code",
   "execution_count": 21,
   "id": "f09d436a",
   "metadata": {},
   "outputs": [
    {
     "data": {
      "text/plain": [
       "Easy Ship    39277\n",
       "Name: fulfilled-by, dtype: int64"
      ]
     },
     "execution_count": 21,
     "metadata": {},
     "output_type": "execute_result"
    }
   ],
   "source": [
    "df[\"fulfilled-by\"].value_counts()"
   ]
  },
  {
   "cell_type": "code",
   "execution_count": 22,
   "id": "e96abff1",
   "metadata": {},
   "outputs": [
    {
     "data": {
      "text/plain": [
       "Set              50224\n",
       "kurta            49826\n",
       "Western Dress    15496\n",
       "Top              10618\n",
       "Ethnic Dress      1159\n",
       "Blouse             922\n",
       "Bottom             439\n",
       "Saree              164\n",
       "Dupatta              3\n",
       "Name: Category, dtype: int64"
      ]
     },
     "execution_count": 22,
     "metadata": {},
     "output_type": "execute_result"
    }
   ],
   "source": [
    "df[\"Category\"].value_counts()"
   ]
  },
  {
   "cell_type": "markdown",
   "id": "f20c7e2c",
   "metadata": {},
   "source": [
    "***Cleaning Notes***\n",
    "<br>I will delete \"index\", \"Order ID\", \"Style\", \"SKU\", \"ASIN\", \"Courier Status\", \"currency\", \"Ship postal code\", \"Ship country\", \"promotion ids\", \"unames\", \"fuffilled-by\""
   ]
  },
  {
   "cell_type": "code",
   "execution_count": 23,
   "id": "650b3a39",
   "metadata": {},
   "outputs": [
    {
     "data": {
      "text/plain": [
       "Index(['index', 'Order ID', 'Date', 'Status', 'Fulfilment', 'Sales Channel ',\n",
       "       'ship-service-level', 'Style', 'SKU', 'Category', 'Size', 'ASIN',\n",
       "       'Courier Status', 'Qty', 'currency', 'Amount', 'ship-city',\n",
       "       'ship-state', 'ship-postal-code', 'ship-country', 'promotion-ids',\n",
       "       'B2B', 'fulfilled-by', 'Unnamed: 22'],\n",
       "      dtype='object')"
      ]
     },
     "execution_count": 23,
     "metadata": {},
     "output_type": "execute_result"
    }
   ],
   "source": [
    "df.columns"
   ]
  },
  {
   "cell_type": "code",
   "execution_count": 24,
   "id": "a2fcf505",
   "metadata": {},
   "outputs": [
    {
     "name": "stderr",
     "output_type": "stream",
     "text": [
      "C:\\Users\\HP\\AppData\\Local\\Temp\\ipykernel_8128\\3631191549.py:2: SettingWithCopyWarning: \n",
      "A value is trying to be set on a copy of a slice from a DataFrame\n",
      "\n",
      "See the caveats in the documentation: https://pandas.pydata.org/pandas-docs/stable/user_guide/indexing.html#returning-a-view-versus-a-copy\n",
      "  df.drop([\"index\", \"Order ID\", \"Style\", \"SKU\", \"ASIN\", \"Courier Status\", \"currency\", \"ship-postal-code\", \"ship-country\", \"promotion-ids\",\n"
     ]
    }
   ],
   "source": [
    "#i wil delete the columns before moving on\n",
    "df.drop([\"index\", \"Order ID\", \"Style\", \"SKU\", \"ASIN\", \"Courier Status\", \"currency\", \"ship-postal-code\", \"ship-country\", \"promotion-ids\",\n",
    "        \"fulfilled-by\", \"Unnamed: 22\", \"Sales Channel \"], axis = 1, inplace = True)"
   ]
  },
  {
   "cell_type": "code",
   "execution_count": 26,
   "id": "a56595f1",
   "metadata": {},
   "outputs": [
    {
     "data": {
      "text/html": [
       "<div>\n",
       "<style scoped>\n",
       "    .dataframe tbody tr th:only-of-type {\n",
       "        vertical-align: middle;\n",
       "    }\n",
       "\n",
       "    .dataframe tbody tr th {\n",
       "        vertical-align: top;\n",
       "    }\n",
       "\n",
       "    .dataframe thead th {\n",
       "        text-align: right;\n",
       "    }\n",
       "</style>\n",
       "<table border=\"1\" class=\"dataframe\">\n",
       "  <thead>\n",
       "    <tr style=\"text-align: right;\">\n",
       "      <th></th>\n",
       "      <th>Date</th>\n",
       "      <th>Status</th>\n",
       "      <th>Fulfilment</th>\n",
       "      <th>ship-service-level</th>\n",
       "      <th>Category</th>\n",
       "      <th>Size</th>\n",
       "      <th>Qty</th>\n",
       "      <th>Amount</th>\n",
       "      <th>ship-city</th>\n",
       "      <th>ship-state</th>\n",
       "      <th>B2B</th>\n",
       "    </tr>\n",
       "  </thead>\n",
       "  <tbody>\n",
       "    <tr>\n",
       "      <th>0</th>\n",
       "      <td>04-30-22</td>\n",
       "      <td>Cancelled</td>\n",
       "      <td>Merchant</td>\n",
       "      <td>Standard</td>\n",
       "      <td>Set</td>\n",
       "      <td>S</td>\n",
       "      <td>0</td>\n",
       "      <td>647.62</td>\n",
       "      <td>MUMBAI</td>\n",
       "      <td>MAHARASHTRA</td>\n",
       "      <td>False</td>\n",
       "    </tr>\n",
       "    <tr>\n",
       "      <th>1</th>\n",
       "      <td>04-30-22</td>\n",
       "      <td>Shipped - Delivered to Buyer</td>\n",
       "      <td>Merchant</td>\n",
       "      <td>Standard</td>\n",
       "      <td>kurta</td>\n",
       "      <td>3XL</td>\n",
       "      <td>1</td>\n",
       "      <td>406.00</td>\n",
       "      <td>BENGALURU</td>\n",
       "      <td>KARNATAKA</td>\n",
       "      <td>False</td>\n",
       "    </tr>\n",
       "    <tr>\n",
       "      <th>2</th>\n",
       "      <td>04-30-22</td>\n",
       "      <td>Shipped</td>\n",
       "      <td>Amazon</td>\n",
       "      <td>Expedited</td>\n",
       "      <td>kurta</td>\n",
       "      <td>XL</td>\n",
       "      <td>1</td>\n",
       "      <td>329.00</td>\n",
       "      <td>NAVI MUMBAI</td>\n",
       "      <td>MAHARASHTRA</td>\n",
       "      <td>True</td>\n",
       "    </tr>\n",
       "    <tr>\n",
       "      <th>3</th>\n",
       "      <td>04-30-22</td>\n",
       "      <td>Cancelled</td>\n",
       "      <td>Merchant</td>\n",
       "      <td>Standard</td>\n",
       "      <td>Western Dress</td>\n",
       "      <td>L</td>\n",
       "      <td>0</td>\n",
       "      <td>753.33</td>\n",
       "      <td>PUDUCHERRY</td>\n",
       "      <td>PUDUCHERRY</td>\n",
       "      <td>False</td>\n",
       "    </tr>\n",
       "    <tr>\n",
       "      <th>4</th>\n",
       "      <td>04-30-22</td>\n",
       "      <td>Shipped</td>\n",
       "      <td>Amazon</td>\n",
       "      <td>Expedited</td>\n",
       "      <td>Top</td>\n",
       "      <td>3XL</td>\n",
       "      <td>1</td>\n",
       "      <td>574.00</td>\n",
       "      <td>CHENNAI</td>\n",
       "      <td>TAMIL NADU</td>\n",
       "      <td>False</td>\n",
       "    </tr>\n",
       "    <tr>\n",
       "      <th>...</th>\n",
       "      <td>...</td>\n",
       "      <td>...</td>\n",
       "      <td>...</td>\n",
       "      <td>...</td>\n",
       "      <td>...</td>\n",
       "      <td>...</td>\n",
       "      <td>...</td>\n",
       "      <td>...</td>\n",
       "      <td>...</td>\n",
       "      <td>...</td>\n",
       "      <td>...</td>\n",
       "    </tr>\n",
       "    <tr>\n",
       "      <th>128970</th>\n",
       "      <td>05-31-22</td>\n",
       "      <td>Shipped</td>\n",
       "      <td>Amazon</td>\n",
       "      <td>Expedited</td>\n",
       "      <td>kurta</td>\n",
       "      <td>XL</td>\n",
       "      <td>1</td>\n",
       "      <td>517.00</td>\n",
       "      <td>HYDERABAD</td>\n",
       "      <td>TELANGANA</td>\n",
       "      <td>False</td>\n",
       "    </tr>\n",
       "    <tr>\n",
       "      <th>128971</th>\n",
       "      <td>05-31-22</td>\n",
       "      <td>Shipped</td>\n",
       "      <td>Amazon</td>\n",
       "      <td>Expedited</td>\n",
       "      <td>Set</td>\n",
       "      <td>M</td>\n",
       "      <td>1</td>\n",
       "      <td>999.00</td>\n",
       "      <td>GURUGRAM</td>\n",
       "      <td>HARYANA</td>\n",
       "      <td>False</td>\n",
       "    </tr>\n",
       "    <tr>\n",
       "      <th>128972</th>\n",
       "      <td>05-31-22</td>\n",
       "      <td>Shipped</td>\n",
       "      <td>Amazon</td>\n",
       "      <td>Expedited</td>\n",
       "      <td>Western Dress</td>\n",
       "      <td>XXL</td>\n",
       "      <td>1</td>\n",
       "      <td>690.00</td>\n",
       "      <td>HYDERABAD</td>\n",
       "      <td>TELANGANA</td>\n",
       "      <td>False</td>\n",
       "    </tr>\n",
       "    <tr>\n",
       "      <th>128973</th>\n",
       "      <td>05-31-22</td>\n",
       "      <td>Shipped</td>\n",
       "      <td>Amazon</td>\n",
       "      <td>Expedited</td>\n",
       "      <td>Set</td>\n",
       "      <td>XS</td>\n",
       "      <td>1</td>\n",
       "      <td>1199.00</td>\n",
       "      <td>Halol</td>\n",
       "      <td>Gujarat</td>\n",
       "      <td>False</td>\n",
       "    </tr>\n",
       "    <tr>\n",
       "      <th>128974</th>\n",
       "      <td>05-31-22</td>\n",
       "      <td>Shipped</td>\n",
       "      <td>Amazon</td>\n",
       "      <td>Expedited</td>\n",
       "      <td>Set</td>\n",
       "      <td>S</td>\n",
       "      <td>1</td>\n",
       "      <td>696.00</td>\n",
       "      <td>Raipur</td>\n",
       "      <td>CHHATTISGARH</td>\n",
       "      <td>False</td>\n",
       "    </tr>\n",
       "  </tbody>\n",
       "</table>\n",
       "<p>128851 rows × 11 columns</p>\n",
       "</div>"
      ],
      "text/plain": [
       "            Date                        Status Fulfilment ship-service-level  \\\n",
       "0       04-30-22                     Cancelled   Merchant           Standard   \n",
       "1       04-30-22  Shipped - Delivered to Buyer   Merchant           Standard   \n",
       "2       04-30-22                       Shipped     Amazon          Expedited   \n",
       "3       04-30-22                     Cancelled   Merchant           Standard   \n",
       "4       04-30-22                       Shipped     Amazon          Expedited   \n",
       "...          ...                           ...        ...                ...   \n",
       "128970  05-31-22                       Shipped     Amazon          Expedited   \n",
       "128971  05-31-22                       Shipped     Amazon          Expedited   \n",
       "128972  05-31-22                       Shipped     Amazon          Expedited   \n",
       "128973  05-31-22                       Shipped     Amazon          Expedited   \n",
       "128974  05-31-22                       Shipped     Amazon          Expedited   \n",
       "\n",
       "             Category Size  Qty   Amount    ship-city    ship-state    B2B  \n",
       "0                 Set    S    0   647.62       MUMBAI   MAHARASHTRA  False  \n",
       "1               kurta  3XL    1   406.00    BENGALURU     KARNATAKA  False  \n",
       "2               kurta   XL    1   329.00  NAVI MUMBAI   MAHARASHTRA   True  \n",
       "3       Western Dress    L    0   753.33   PUDUCHERRY    PUDUCHERRY  False  \n",
       "4                 Top  3XL    1   574.00      CHENNAI    TAMIL NADU  False  \n",
       "...               ...  ...  ...      ...          ...           ...    ...  \n",
       "128970          kurta   XL    1   517.00    HYDERABAD     TELANGANA  False  \n",
       "128971            Set    M    1   999.00     GURUGRAM       HARYANA  False  \n",
       "128972  Western Dress  XXL    1   690.00    HYDERABAD     TELANGANA  False  \n",
       "128973            Set   XS    1  1199.00        Halol       Gujarat  False  \n",
       "128974            Set    S    1   696.00       Raipur  CHHATTISGARH  False  \n",
       "\n",
       "[128851 rows x 11 columns]"
      ]
     },
     "execution_count": 26,
     "metadata": {},
     "output_type": "execute_result"
    }
   ],
   "source": [
    "df"
   ]
  },
  {
   "cell_type": "code",
   "execution_count": 27,
   "id": "abb7169e",
   "metadata": {},
   "outputs": [
    {
     "name": "stdout",
     "output_type": "stream",
     "text": [
      "<class 'pandas.core.frame.DataFrame'>\n",
      "Int64Index: 128851 entries, 0 to 128974\n",
      "Data columns (total 11 columns):\n",
      " #   Column              Non-Null Count   Dtype  \n",
      "---  ------              --------------   -----  \n",
      " 0   Date                128851 non-null  object \n",
      " 1   Status              128851 non-null  object \n",
      " 2   Fulfilment          128851 non-null  object \n",
      " 3   ship-service-level  128851 non-null  object \n",
      " 4   Category            128851 non-null  object \n",
      " 5   Size                128851 non-null  object \n",
      " 6   Qty                 128851 non-null  int64  \n",
      " 7   Amount              121180 non-null  float64\n",
      " 8   ship-city           128818 non-null  object \n",
      " 9   ship-state          128818 non-null  object \n",
      " 10  B2B                 128851 non-null  bool   \n",
      "dtypes: bool(1), float64(1), int64(1), object(8)\n",
      "memory usage: 10.9+ MB\n"
     ]
    }
   ],
   "source": [
    "df.info()"
   ]
  },
  {
   "cell_type": "code",
   "execution_count": 28,
   "id": "1dc72cd5",
   "metadata": {},
   "outputs": [
    {
     "data": {
      "text/plain": [
       "4488"
      ]
     },
     "execution_count": 28,
     "metadata": {},
     "output_type": "execute_result"
    }
   ],
   "source": [
    "df.duplicated().sum()"
   ]
  },
  {
   "cell_type": "code",
   "execution_count": 29,
   "id": "8c3d7d57",
   "metadata": {},
   "outputs": [
    {
     "name": "stderr",
     "output_type": "stream",
     "text": [
      "C:\\Users\\HP\\AppData\\Local\\Temp\\ipykernel_8128\\3424306917.py:1: SettingWithCopyWarning: \n",
      "A value is trying to be set on a copy of a slice from a DataFrame\n",
      "\n",
      "See the caveats in the documentation: https://pandas.pydata.org/pandas-docs/stable/user_guide/indexing.html#returning-a-view-versus-a-copy\n",
      "  df.drop_duplicates(inplace = True)\n"
     ]
    }
   ],
   "source": [
    "df.drop_duplicates(inplace = True)"
   ]
  },
  {
   "cell_type": "code",
   "execution_count": 30,
   "id": "f859bb22",
   "metadata": {},
   "outputs": [
    {
     "data": {
      "text/plain": [
       "0"
      ]
     },
     "execution_count": 30,
     "metadata": {},
     "output_type": "execute_result"
    }
   ],
   "source": [
    "df.duplicated().sum()"
   ]
  },
  {
   "cell_type": "code",
   "execution_count": 31,
   "id": "5d94b20d",
   "metadata": {},
   "outputs": [
    {
     "data": {
      "text/plain": [
       "Date                     0\n",
       "Status                   0\n",
       "Fulfilment               0\n",
       "ship-service-level       0\n",
       "Category                 0\n",
       "                      ... \n",
       "Qty                      0\n",
       "Amount                6895\n",
       "ship-city               32\n",
       "ship-state              32\n",
       "B2B                      0\n",
       "Length: 11, dtype: int64"
      ]
     },
     "execution_count": 31,
     "metadata": {},
     "output_type": "execute_result"
    }
   ],
   "source": [
    "df.isnull().sum()"
   ]
  },
  {
   "cell_type": "code",
   "execution_count": 32,
   "id": "12a29925",
   "metadata": {},
   "outputs": [
    {
     "data": {
      "text/html": [
       "<div>\n",
       "<style scoped>\n",
       "    .dataframe tbody tr th:only-of-type {\n",
       "        vertical-align: middle;\n",
       "    }\n",
       "\n",
       "    .dataframe tbody tr th {\n",
       "        vertical-align: top;\n",
       "    }\n",
       "\n",
       "    .dataframe thead th {\n",
       "        text-align: right;\n",
       "    }\n",
       "</style>\n",
       "<table border=\"1\" class=\"dataframe\">\n",
       "  <thead>\n",
       "    <tr style=\"text-align: right;\">\n",
       "      <th></th>\n",
       "      <th>Date</th>\n",
       "      <th>Status</th>\n",
       "      <th>Fulfilment</th>\n",
       "      <th>ship-service-level</th>\n",
       "      <th>Category</th>\n",
       "      <th>Size</th>\n",
       "      <th>Qty</th>\n",
       "      <th>Amount</th>\n",
       "      <th>ship-city</th>\n",
       "      <th>ship-state</th>\n",
       "      <th>B2B</th>\n",
       "    </tr>\n",
       "  </thead>\n",
       "  <tbody>\n",
       "    <tr>\n",
       "      <th>8</th>\n",
       "      <td>04-30-22</td>\n",
       "      <td>Cancelled</td>\n",
       "      <td>Amazon</td>\n",
       "      <td>Expedited</td>\n",
       "      <td>Set</td>\n",
       "      <td>3XL</td>\n",
       "      <td>0</td>\n",
       "      <td>NaN</td>\n",
       "      <td>HYDERABAD</td>\n",
       "      <td>TELANGANA</td>\n",
       "      <td>False</td>\n",
       "    </tr>\n",
       "    <tr>\n",
       "      <th>29</th>\n",
       "      <td>04-30-22</td>\n",
       "      <td>Cancelled</td>\n",
       "      <td>Merchant</td>\n",
       "      <td>Standard</td>\n",
       "      <td>kurta</td>\n",
       "      <td>3XL</td>\n",
       "      <td>0</td>\n",
       "      <td>NaN</td>\n",
       "      <td>GUWAHATI</td>\n",
       "      <td>ASSAM</td>\n",
       "      <td>False</td>\n",
       "    </tr>\n",
       "    <tr>\n",
       "      <th>65</th>\n",
       "      <td>04-30-22</td>\n",
       "      <td>Cancelled</td>\n",
       "      <td>Amazon</td>\n",
       "      <td>Expedited</td>\n",
       "      <td>kurta</td>\n",
       "      <td>XXL</td>\n",
       "      <td>0</td>\n",
       "      <td>NaN</td>\n",
       "      <td>Dahod</td>\n",
       "      <td>Gujarat</td>\n",
       "      <td>False</td>\n",
       "    </tr>\n",
       "    <tr>\n",
       "      <th>84</th>\n",
       "      <td>04-30-22</td>\n",
       "      <td>Cancelled</td>\n",
       "      <td>Amazon</td>\n",
       "      <td>Expedited</td>\n",
       "      <td>kurta</td>\n",
       "      <td>M</td>\n",
       "      <td>0</td>\n",
       "      <td>NaN</td>\n",
       "      <td>HYDERABAD</td>\n",
       "      <td>TELANGANA</td>\n",
       "      <td>False</td>\n",
       "    </tr>\n",
       "    <tr>\n",
       "      <th>95</th>\n",
       "      <td>04-30-22</td>\n",
       "      <td>Cancelled</td>\n",
       "      <td>Amazon</td>\n",
       "      <td>Expedited</td>\n",
       "      <td>kurta</td>\n",
       "      <td>L</td>\n",
       "      <td>0</td>\n",
       "      <td>NaN</td>\n",
       "      <td>PUNE</td>\n",
       "      <td>MAHARASHTRA</td>\n",
       "      <td>False</td>\n",
       "    </tr>\n",
       "    <tr>\n",
       "      <th>...</th>\n",
       "      <td>...</td>\n",
       "      <td>...</td>\n",
       "      <td>...</td>\n",
       "      <td>...</td>\n",
       "      <td>...</td>\n",
       "      <td>...</td>\n",
       "      <td>...</td>\n",
       "      <td>...</td>\n",
       "      <td>...</td>\n",
       "      <td>...</td>\n",
       "      <td>...</td>\n",
       "    </tr>\n",
       "    <tr>\n",
       "      <th>128902</th>\n",
       "      <td>05-31-22</td>\n",
       "      <td>Cancelled</td>\n",
       "      <td>Amazon</td>\n",
       "      <td>Expedited</td>\n",
       "      <td>Western Dress</td>\n",
       "      <td>L</td>\n",
       "      <td>0</td>\n",
       "      <td>NaN</td>\n",
       "      <td>ANANTAPUR</td>\n",
       "      <td>ANDHRA PRADESH</td>\n",
       "      <td>False</td>\n",
       "    </tr>\n",
       "    <tr>\n",
       "      <th>128903</th>\n",
       "      <td>05-31-22</td>\n",
       "      <td>Cancelled</td>\n",
       "      <td>Amazon</td>\n",
       "      <td>Expedited</td>\n",
       "      <td>kurta</td>\n",
       "      <td>M</td>\n",
       "      <td>0</td>\n",
       "      <td>NaN</td>\n",
       "      <td>ANANTAPUR</td>\n",
       "      <td>ANDHRA PRADESH</td>\n",
       "      <td>False</td>\n",
       "    </tr>\n",
       "    <tr>\n",
       "      <th>128907</th>\n",
       "      <td>05-31-22</td>\n",
       "      <td>Cancelled</td>\n",
       "      <td>Amazon</td>\n",
       "      <td>Expedited</td>\n",
       "      <td>Set</td>\n",
       "      <td>3XL</td>\n",
       "      <td>0</td>\n",
       "      <td>NaN</td>\n",
       "      <td>GREATER NOIDA</td>\n",
       "      <td>UTTAR PRADESH</td>\n",
       "      <td>False</td>\n",
       "    </tr>\n",
       "    <tr>\n",
       "      <th>128958</th>\n",
       "      <td>05-31-22</td>\n",
       "      <td>Cancelled</td>\n",
       "      <td>Amazon</td>\n",
       "      <td>Expedited</td>\n",
       "      <td>Set</td>\n",
       "      <td>L</td>\n",
       "      <td>0</td>\n",
       "      <td>NaN</td>\n",
       "      <td>Bengaluru</td>\n",
       "      <td>KARNATAKA</td>\n",
       "      <td>False</td>\n",
       "    </tr>\n",
       "    <tr>\n",
       "      <th>128967</th>\n",
       "      <td>05-31-22</td>\n",
       "      <td>Cancelled</td>\n",
       "      <td>Amazon</td>\n",
       "      <td>Expedited</td>\n",
       "      <td>kurta</td>\n",
       "      <td>XS</td>\n",
       "      <td>0</td>\n",
       "      <td>NaN</td>\n",
       "      <td>Kolkata</td>\n",
       "      <td>WEST BENGAL</td>\n",
       "      <td>False</td>\n",
       "    </tr>\n",
       "  </tbody>\n",
       "</table>\n",
       "<p>6895 rows × 11 columns</p>\n",
       "</div>"
      ],
      "text/plain": [
       "            Date     Status Fulfilment ship-service-level       Category Size  \\\n",
       "8       04-30-22  Cancelled     Amazon          Expedited            Set  3XL   \n",
       "29      04-30-22  Cancelled   Merchant           Standard          kurta  3XL   \n",
       "65      04-30-22  Cancelled     Amazon          Expedited          kurta  XXL   \n",
       "84      04-30-22  Cancelled     Amazon          Expedited          kurta    M   \n",
       "95      04-30-22  Cancelled     Amazon          Expedited          kurta    L   \n",
       "...          ...        ...        ...                ...            ...  ...   \n",
       "128902  05-31-22  Cancelled     Amazon          Expedited  Western Dress    L   \n",
       "128903  05-31-22  Cancelled     Amazon          Expedited          kurta    M   \n",
       "128907  05-31-22  Cancelled     Amazon          Expedited            Set  3XL   \n",
       "128958  05-31-22  Cancelled     Amazon          Expedited            Set    L   \n",
       "128967  05-31-22  Cancelled     Amazon          Expedited          kurta   XS   \n",
       "\n",
       "        Qty  Amount      ship-city      ship-state    B2B  \n",
       "8         0     NaN      HYDERABAD       TELANGANA  False  \n",
       "29        0     NaN       GUWAHATI           ASSAM  False  \n",
       "65        0     NaN          Dahod         Gujarat  False  \n",
       "84        0     NaN      HYDERABAD       TELANGANA  False  \n",
       "95        0     NaN           PUNE     MAHARASHTRA  False  \n",
       "...     ...     ...            ...             ...    ...  \n",
       "128902    0     NaN      ANANTAPUR  ANDHRA PRADESH  False  \n",
       "128903    0     NaN      ANANTAPUR  ANDHRA PRADESH  False  \n",
       "128907    0     NaN  GREATER NOIDA   UTTAR PRADESH  False  \n",
       "128958    0     NaN      Bengaluru       KARNATAKA  False  \n",
       "128967    0     NaN        Kolkata     WEST BENGAL  False  \n",
       "\n",
       "[6895 rows x 11 columns]"
      ]
     },
     "execution_count": 32,
     "metadata": {},
     "output_type": "execute_result"
    }
   ],
   "source": [
    "#I want to see the rows that has null values in the amount since the amount is the most important thing\n",
    "df[df[\"Amount\"].isnull()]"
   ]
  },
  {
   "cell_type": "code",
   "execution_count": 33,
   "id": "cd23c276",
   "metadata": {},
   "outputs": [
    {
     "data": {
      "text/plain": [
       "16941"
      ]
     },
     "execution_count": 33,
     "metadata": {},
     "output_type": "execute_result"
    }
   ],
   "source": [
    "len(df[df[\"Status\"] == \"Cancelled\"])"
   ]
  },
  {
   "cell_type": "code",
   "execution_count": 34,
   "id": "89a0cdf9",
   "metadata": {},
   "outputs": [
    {
     "data": {
      "text/plain": [
       "Cancelled                       6796\n",
       "Shipped                           86\n",
       "Shipped - Delivered to Buyer       8\n",
       "Shipped - Returned to Seller       3\n",
       "Pending                            2\n",
       "Name: Status, dtype: int64"
      ]
     },
     "execution_count": 34,
     "metadata": {},
     "output_type": "execute_result"
    }
   ],
   "source": [
    "df[df[\"Amount\"].isnull()][\"Status\"].value_counts()"
   ]
  },
  {
   "cell_type": "markdown",
   "id": "aca4dc45",
   "metadata": {},
   "source": [
    "It seems that most of the null values in the \"Amount\" column are for orders that have been canceld, and if i just deleted these rows i will affects the number of cancelled values in this dataset, ***So i will fill the null values with the average***"
   ]
  },
  {
   "cell_type": "code",
   "execution_count": 35,
   "id": "b02b3a46",
   "metadata": {},
   "outputs": [
    {
     "name": "stderr",
     "output_type": "stream",
     "text": [
      "C:\\Users\\HP\\AppData\\Local\\Temp\\ipykernel_8128\\3623162978.py:2: SettingWithCopyWarning: \n",
      "A value is trying to be set on a copy of a slice from a DataFrame\n",
      "\n",
      "See the caveats in the documentation: https://pandas.pydata.org/pandas-docs/stable/user_guide/indexing.html#returning-a-view-versus-a-copy\n",
      "  df[\"Amount\"].fillna(amount_mean, inplace = True)\n"
     ]
    }
   ],
   "source": [
    "amount_mean = np.mean(df[\"Amount\"])\n",
    "df[\"Amount\"].fillna(amount_mean, inplace = True)"
   ]
  },
  {
   "cell_type": "code",
   "execution_count": 36,
   "id": "aa747a84",
   "metadata": {},
   "outputs": [
    {
     "data": {
      "text/plain": [
       "Date                   0\n",
       "Status                 0\n",
       "Fulfilment             0\n",
       "ship-service-level     0\n",
       "Category               0\n",
       "                      ..\n",
       "Qty                    0\n",
       "Amount                 0\n",
       "ship-city             32\n",
       "ship-state            32\n",
       "B2B                    0\n",
       "Length: 11, dtype: int64"
      ]
     },
     "execution_count": 36,
     "metadata": {},
     "output_type": "execute_result"
    }
   ],
   "source": [
    "df.isnull().sum()"
   ]
  },
  {
   "cell_type": "markdown",
   "id": "ce7ad6b8",
   "metadata": {},
   "source": [
    "Now we have replaced all the null values \"in the amount with the average\""
   ]
  },
  {
   "cell_type": "code",
   "execution_count": 37,
   "id": "9d90d481",
   "metadata": {},
   "outputs": [
    {
     "data": {
      "text/html": [
       "<div>\n",
       "<style scoped>\n",
       "    .dataframe tbody tr th:only-of-type {\n",
       "        vertical-align: middle;\n",
       "    }\n",
       "\n",
       "    .dataframe tbody tr th {\n",
       "        vertical-align: top;\n",
       "    }\n",
       "\n",
       "    .dataframe thead th {\n",
       "        text-align: right;\n",
       "    }\n",
       "</style>\n",
       "<table border=\"1\" class=\"dataframe\">\n",
       "  <thead>\n",
       "    <tr style=\"text-align: right;\">\n",
       "      <th></th>\n",
       "      <th>Date</th>\n",
       "      <th>Status</th>\n",
       "      <th>Fulfilment</th>\n",
       "      <th>ship-service-level</th>\n",
       "      <th>Category</th>\n",
       "      <th>Size</th>\n",
       "      <th>Qty</th>\n",
       "      <th>Amount</th>\n",
       "      <th>ship-city</th>\n",
       "      <th>ship-state</th>\n",
       "      <th>B2B</th>\n",
       "    </tr>\n",
       "  </thead>\n",
       "  <tbody>\n",
       "    <tr>\n",
       "      <th>1871</th>\n",
       "      <td>04-29-22</td>\n",
       "      <td>Shipped</td>\n",
       "      <td>Amazon</td>\n",
       "      <td>Expedited</td>\n",
       "      <td>Top</td>\n",
       "      <td>L</td>\n",
       "      <td>1</td>\n",
       "      <td>493.0</td>\n",
       "      <td>NaN</td>\n",
       "      <td>NaN</td>\n",
       "      <td>False</td>\n",
       "    </tr>\n",
       "    <tr>\n",
       "      <th>1872</th>\n",
       "      <td>04-29-22</td>\n",
       "      <td>Shipped</td>\n",
       "      <td>Amazon</td>\n",
       "      <td>Expedited</td>\n",
       "      <td>kurta</td>\n",
       "      <td>L</td>\n",
       "      <td>1</td>\n",
       "      <td>458.0</td>\n",
       "      <td>NaN</td>\n",
       "      <td>NaN</td>\n",
       "      <td>False</td>\n",
       "    </tr>\n",
       "    <tr>\n",
       "      <th>8752</th>\n",
       "      <td>04-25-22</td>\n",
       "      <td>Shipped</td>\n",
       "      <td>Amazon</td>\n",
       "      <td>Expedited</td>\n",
       "      <td>kurta</td>\n",
       "      <td>M</td>\n",
       "      <td>1</td>\n",
       "      <td>432.0</td>\n",
       "      <td>NaN</td>\n",
       "      <td>NaN</td>\n",
       "      <td>False</td>\n",
       "    </tr>\n",
       "    <tr>\n",
       "      <th>11215</th>\n",
       "      <td>04-23-22</td>\n",
       "      <td>Shipped</td>\n",
       "      <td>Amazon</td>\n",
       "      <td>Expedited</td>\n",
       "      <td>Set</td>\n",
       "      <td>S</td>\n",
       "      <td>1</td>\n",
       "      <td>654.0</td>\n",
       "      <td>NaN</td>\n",
       "      <td>NaN</td>\n",
       "      <td>False</td>\n",
       "    </tr>\n",
       "    <tr>\n",
       "      <th>13252</th>\n",
       "      <td>04-22-22</td>\n",
       "      <td>Cancelled</td>\n",
       "      <td>Merchant</td>\n",
       "      <td>Standard</td>\n",
       "      <td>kurta</td>\n",
       "      <td>S</td>\n",
       "      <td>0</td>\n",
       "      <td>380.0</td>\n",
       "      <td>NaN</td>\n",
       "      <td>NaN</td>\n",
       "      <td>False</td>\n",
       "    </tr>\n",
       "    <tr>\n",
       "      <th>...</th>\n",
       "      <td>...</td>\n",
       "      <td>...</td>\n",
       "      <td>...</td>\n",
       "      <td>...</td>\n",
       "      <td>...</td>\n",
       "      <td>...</td>\n",
       "      <td>...</td>\n",
       "      <td>...</td>\n",
       "      <td>...</td>\n",
       "      <td>...</td>\n",
       "      <td>...</td>\n",
       "    </tr>\n",
       "    <tr>\n",
       "      <th>124357</th>\n",
       "      <td>06-04-22</td>\n",
       "      <td>Shipped</td>\n",
       "      <td>Amazon</td>\n",
       "      <td>Expedited</td>\n",
       "      <td>kurta</td>\n",
       "      <td>L</td>\n",
       "      <td>1</td>\n",
       "      <td>486.0</td>\n",
       "      <td>NaN</td>\n",
       "      <td>NaN</td>\n",
       "      <td>False</td>\n",
       "    </tr>\n",
       "    <tr>\n",
       "      <th>124358</th>\n",
       "      <td>06-04-22</td>\n",
       "      <td>Shipped</td>\n",
       "      <td>Amazon</td>\n",
       "      <td>Expedited</td>\n",
       "      <td>Set</td>\n",
       "      <td>L</td>\n",
       "      <td>1</td>\n",
       "      <td>874.0</td>\n",
       "      <td>NaN</td>\n",
       "      <td>NaN</td>\n",
       "      <td>False</td>\n",
       "    </tr>\n",
       "    <tr>\n",
       "      <th>124359</th>\n",
       "      <td>06-04-22</td>\n",
       "      <td>Shipped</td>\n",
       "      <td>Amazon</td>\n",
       "      <td>Expedited</td>\n",
       "      <td>Set</td>\n",
       "      <td>L</td>\n",
       "      <td>1</td>\n",
       "      <td>832.0</td>\n",
       "      <td>NaN</td>\n",
       "      <td>NaN</td>\n",
       "      <td>False</td>\n",
       "    </tr>\n",
       "    <tr>\n",
       "      <th>125385</th>\n",
       "      <td>06-03-22</td>\n",
       "      <td>Shipped</td>\n",
       "      <td>Amazon</td>\n",
       "      <td>Expedited</td>\n",
       "      <td>kurta</td>\n",
       "      <td>L</td>\n",
       "      <td>1</td>\n",
       "      <td>376.0</td>\n",
       "      <td>NaN</td>\n",
       "      <td>NaN</td>\n",
       "      <td>False</td>\n",
       "    </tr>\n",
       "    <tr>\n",
       "      <th>126620</th>\n",
       "      <td>06-02-22</td>\n",
       "      <td>Shipped - Delivered to Buyer</td>\n",
       "      <td>Merchant</td>\n",
       "      <td>Standard</td>\n",
       "      <td>Western Dress</td>\n",
       "      <td>M</td>\n",
       "      <td>1</td>\n",
       "      <td>735.0</td>\n",
       "      <td>NaN</td>\n",
       "      <td>NaN</td>\n",
       "      <td>False</td>\n",
       "    </tr>\n",
       "  </tbody>\n",
       "</table>\n",
       "<p>32 rows × 11 columns</p>\n",
       "</div>"
      ],
      "text/plain": [
       "            Date                        Status Fulfilment ship-service-level  \\\n",
       "1871    04-29-22                       Shipped     Amazon          Expedited   \n",
       "1872    04-29-22                       Shipped     Amazon          Expedited   \n",
       "8752    04-25-22                       Shipped     Amazon          Expedited   \n",
       "11215   04-23-22                       Shipped     Amazon          Expedited   \n",
       "13252   04-22-22                     Cancelled   Merchant           Standard   \n",
       "...          ...                           ...        ...                ...   \n",
       "124357  06-04-22                       Shipped     Amazon          Expedited   \n",
       "124358  06-04-22                       Shipped     Amazon          Expedited   \n",
       "124359  06-04-22                       Shipped     Amazon          Expedited   \n",
       "125385  06-03-22                       Shipped     Amazon          Expedited   \n",
       "126620  06-02-22  Shipped - Delivered to Buyer   Merchant           Standard   \n",
       "\n",
       "             Category Size  Qty  Amount ship-city ship-state    B2B  \n",
       "1871              Top    L    1   493.0       NaN        NaN  False  \n",
       "1872            kurta    L    1   458.0       NaN        NaN  False  \n",
       "8752            kurta    M    1   432.0       NaN        NaN  False  \n",
       "11215             Set    S    1   654.0       NaN        NaN  False  \n",
       "13252           kurta    S    0   380.0       NaN        NaN  False  \n",
       "...               ...  ...  ...     ...       ...        ...    ...  \n",
       "124357          kurta    L    1   486.0       NaN        NaN  False  \n",
       "124358            Set    L    1   874.0       NaN        NaN  False  \n",
       "124359            Set    L    1   832.0       NaN        NaN  False  \n",
       "125385          kurta    L    1   376.0       NaN        NaN  False  \n",
       "126620  Western Dress    M    1   735.0       NaN        NaN  False  \n",
       "\n",
       "[32 rows x 11 columns]"
      ]
     },
     "execution_count": 37,
     "metadata": {},
     "output_type": "execute_result"
    }
   ],
   "source": [
    "df[df[\"ship-city\"].isnull()]"
   ]
  },
  {
   "cell_type": "code",
   "execution_count": 38,
   "id": "3c1d8ff4",
   "metadata": {},
   "outputs": [
    {
     "name": "stderr",
     "output_type": "stream",
     "text": [
      "C:\\Users\\HP\\AppData\\Local\\Temp\\ipykernel_8128\\2186172192.py:2: SettingWithCopyWarning: \n",
      "A value is trying to be set on a copy of a slice from a DataFrame\n",
      "\n",
      "See the caveats in the documentation: https://pandas.pydata.org/pandas-docs/stable/user_guide/indexing.html#returning-a-view-versus-a-copy\n",
      "  df.dropna(inplace = True)\n"
     ]
    }
   ],
   "source": [
    "#I will drop these rows\n",
    "df.dropna(inplace = True)"
   ]
  },
  {
   "cell_type": "code",
   "execution_count": 41,
   "id": "bbe347dc",
   "metadata": {},
   "outputs": [
    {
     "data": {
      "text/plain": [
       "Date                  0\n",
       "Status                0\n",
       "Fulfilment            0\n",
       "ship-service-level    0\n",
       "Category              0\n",
       "                     ..\n",
       "Qty                   0\n",
       "Amount                0\n",
       "ship-city             0\n",
       "ship-state            0\n",
       "B2B                   0\n",
       "Length: 11, dtype: int64"
      ]
     },
     "execution_count": 41,
     "metadata": {},
     "output_type": "execute_result"
    }
   ],
   "source": [
    "df.isnull().sum()"
   ]
  },
  {
   "cell_type": "code",
   "execution_count": 42,
   "id": "269233b9",
   "metadata": {},
   "outputs": [
    {
     "data": {
      "text/html": [
       "<div>\n",
       "<style scoped>\n",
       "    .dataframe tbody tr th:only-of-type {\n",
       "        vertical-align: middle;\n",
       "    }\n",
       "\n",
       "    .dataframe tbody tr th {\n",
       "        vertical-align: top;\n",
       "    }\n",
       "\n",
       "    .dataframe thead th {\n",
       "        text-align: right;\n",
       "    }\n",
       "</style>\n",
       "<table border=\"1\" class=\"dataframe\">\n",
       "  <thead>\n",
       "    <tr style=\"text-align: right;\">\n",
       "      <th></th>\n",
       "      <th>Qty</th>\n",
       "      <th>Amount</th>\n",
       "    </tr>\n",
       "  </thead>\n",
       "  <tbody>\n",
       "    <tr>\n",
       "      <th>count</th>\n",
       "      <td>124331.000000</td>\n",
       "      <td>124331.000000</td>\n",
       "    </tr>\n",
       "    <tr>\n",
       "      <th>mean</th>\n",
       "      <td>0.908896</td>\n",
       "      <td>649.763664</td>\n",
       "    </tr>\n",
       "    <tr>\n",
       "      <th>std</th>\n",
       "      <td>0.302049</td>\n",
       "      <td>274.330628</td>\n",
       "    </tr>\n",
       "    <tr>\n",
       "      <th>min</th>\n",
       "      <td>0.000000</td>\n",
       "      <td>0.000000</td>\n",
       "    </tr>\n",
       "    <tr>\n",
       "      <th>25%</th>\n",
       "      <td>1.000000</td>\n",
       "      <td>459.000000</td>\n",
       "    </tr>\n",
       "    <tr>\n",
       "      <th>50%</th>\n",
       "      <td>1.000000</td>\n",
       "      <td>634.290000</td>\n",
       "    </tr>\n",
       "    <tr>\n",
       "      <th>75%</th>\n",
       "      <td>1.000000</td>\n",
       "      <td>771.000000</td>\n",
       "    </tr>\n",
       "    <tr>\n",
       "      <th>max</th>\n",
       "      <td>8.000000</td>\n",
       "      <td>5584.000000</td>\n",
       "    </tr>\n",
       "  </tbody>\n",
       "</table>\n",
       "</div>"
      ],
      "text/plain": [
       "                 Qty         Amount\n",
       "count  124331.000000  124331.000000\n",
       "mean        0.908896     649.763664\n",
       "std         0.302049     274.330628\n",
       "min         0.000000       0.000000\n",
       "25%         1.000000     459.000000\n",
       "50%         1.000000     634.290000\n",
       "75%         1.000000     771.000000\n",
       "max         8.000000    5584.000000"
      ]
     },
     "execution_count": 42,
     "metadata": {},
     "output_type": "execute_result"
    }
   ],
   "source": [
    "df.describe()"
   ]
  },
  {
   "cell_type": "markdown",
   "id": "bd516a09",
   "metadata": {},
   "source": [
    "**There are values that make no since like 0 in both columns**"
   ]
  },
  {
   "cell_type": "code",
   "execution_count": 43,
   "id": "edf0cbb7",
   "metadata": {},
   "outputs": [
    {
     "data": {
      "text/html": [
       "<div>\n",
       "<style scoped>\n",
       "    .dataframe tbody tr th:only-of-type {\n",
       "        vertical-align: middle;\n",
       "    }\n",
       "\n",
       "    .dataframe tbody tr th {\n",
       "        vertical-align: top;\n",
       "    }\n",
       "\n",
       "    .dataframe thead th {\n",
       "        text-align: right;\n",
       "    }\n",
       "</style>\n",
       "<table border=\"1\" class=\"dataframe\">\n",
       "  <thead>\n",
       "    <tr style=\"text-align: right;\">\n",
       "      <th></th>\n",
       "      <th>Date</th>\n",
       "      <th>Status</th>\n",
       "      <th>Fulfilment</th>\n",
       "      <th>ship-service-level</th>\n",
       "      <th>Category</th>\n",
       "      <th>Size</th>\n",
       "      <th>Qty</th>\n",
       "      <th>Amount</th>\n",
       "      <th>ship-city</th>\n",
       "      <th>ship-state</th>\n",
       "      <th>B2B</th>\n",
       "    </tr>\n",
       "  </thead>\n",
       "  <tbody>\n",
       "    <tr>\n",
       "      <th>0</th>\n",
       "      <td>04-30-22</td>\n",
       "      <td>Cancelled</td>\n",
       "      <td>Merchant</td>\n",
       "      <td>Standard</td>\n",
       "      <td>Set</td>\n",
       "      <td>S</td>\n",
       "      <td>0</td>\n",
       "      <td>647.620000</td>\n",
       "      <td>MUMBAI</td>\n",
       "      <td>MAHARASHTRA</td>\n",
       "      <td>False</td>\n",
       "    </tr>\n",
       "    <tr>\n",
       "      <th>3</th>\n",
       "      <td>04-30-22</td>\n",
       "      <td>Cancelled</td>\n",
       "      <td>Merchant</td>\n",
       "      <td>Standard</td>\n",
       "      <td>Western Dress</td>\n",
       "      <td>L</td>\n",
       "      <td>0</td>\n",
       "      <td>753.330000</td>\n",
       "      <td>PUDUCHERRY</td>\n",
       "      <td>PUDUCHERRY</td>\n",
       "      <td>False</td>\n",
       "    </tr>\n",
       "    <tr>\n",
       "      <th>8</th>\n",
       "      <td>04-30-22</td>\n",
       "      <td>Cancelled</td>\n",
       "      <td>Amazon</td>\n",
       "      <td>Expedited</td>\n",
       "      <td>Set</td>\n",
       "      <td>3XL</td>\n",
       "      <td>0</td>\n",
       "      <td>649.750067</td>\n",
       "      <td>HYDERABAD</td>\n",
       "      <td>TELANGANA</td>\n",
       "      <td>False</td>\n",
       "    </tr>\n",
       "    <tr>\n",
       "      <th>23</th>\n",
       "      <td>04-30-22</td>\n",
       "      <td>Cancelled</td>\n",
       "      <td>Merchant</td>\n",
       "      <td>Standard</td>\n",
       "      <td>Set</td>\n",
       "      <td>M</td>\n",
       "      <td>0</td>\n",
       "      <td>570.480000</td>\n",
       "      <td>pune</td>\n",
       "      <td>MAHARASHTRA</td>\n",
       "      <td>False</td>\n",
       "    </tr>\n",
       "    <tr>\n",
       "      <th>29</th>\n",
       "      <td>04-30-22</td>\n",
       "      <td>Cancelled</td>\n",
       "      <td>Merchant</td>\n",
       "      <td>Standard</td>\n",
       "      <td>kurta</td>\n",
       "      <td>3XL</td>\n",
       "      <td>0</td>\n",
       "      <td>649.750067</td>\n",
       "      <td>GUWAHATI</td>\n",
       "      <td>ASSAM</td>\n",
       "      <td>False</td>\n",
       "    </tr>\n",
       "    <tr>\n",
       "      <th>...</th>\n",
       "      <td>...</td>\n",
       "      <td>...</td>\n",
       "      <td>...</td>\n",
       "      <td>...</td>\n",
       "      <td>...</td>\n",
       "      <td>...</td>\n",
       "      <td>...</td>\n",
       "      <td>...</td>\n",
       "      <td>...</td>\n",
       "      <td>...</td>\n",
       "      <td>...</td>\n",
       "    </tr>\n",
       "    <tr>\n",
       "      <th>128902</th>\n",
       "      <td>05-31-22</td>\n",
       "      <td>Cancelled</td>\n",
       "      <td>Amazon</td>\n",
       "      <td>Expedited</td>\n",
       "      <td>Western Dress</td>\n",
       "      <td>L</td>\n",
       "      <td>0</td>\n",
       "      <td>649.750067</td>\n",
       "      <td>ANANTAPUR</td>\n",
       "      <td>ANDHRA PRADESH</td>\n",
       "      <td>False</td>\n",
       "    </tr>\n",
       "    <tr>\n",
       "      <th>128903</th>\n",
       "      <td>05-31-22</td>\n",
       "      <td>Cancelled</td>\n",
       "      <td>Amazon</td>\n",
       "      <td>Expedited</td>\n",
       "      <td>kurta</td>\n",
       "      <td>M</td>\n",
       "      <td>0</td>\n",
       "      <td>649.750067</td>\n",
       "      <td>ANANTAPUR</td>\n",
       "      <td>ANDHRA PRADESH</td>\n",
       "      <td>False</td>\n",
       "    </tr>\n",
       "    <tr>\n",
       "      <th>128907</th>\n",
       "      <td>05-31-22</td>\n",
       "      <td>Cancelled</td>\n",
       "      <td>Amazon</td>\n",
       "      <td>Expedited</td>\n",
       "      <td>Set</td>\n",
       "      <td>3XL</td>\n",
       "      <td>0</td>\n",
       "      <td>649.750067</td>\n",
       "      <td>GREATER NOIDA</td>\n",
       "      <td>UTTAR PRADESH</td>\n",
       "      <td>False</td>\n",
       "    </tr>\n",
       "    <tr>\n",
       "      <th>128958</th>\n",
       "      <td>05-31-22</td>\n",
       "      <td>Cancelled</td>\n",
       "      <td>Amazon</td>\n",
       "      <td>Expedited</td>\n",
       "      <td>Set</td>\n",
       "      <td>L</td>\n",
       "      <td>0</td>\n",
       "      <td>649.750067</td>\n",
       "      <td>Bengaluru</td>\n",
       "      <td>KARNATAKA</td>\n",
       "      <td>False</td>\n",
       "    </tr>\n",
       "    <tr>\n",
       "      <th>128967</th>\n",
       "      <td>05-31-22</td>\n",
       "      <td>Cancelled</td>\n",
       "      <td>Amazon</td>\n",
       "      <td>Expedited</td>\n",
       "      <td>kurta</td>\n",
       "      <td>XS</td>\n",
       "      <td>0</td>\n",
       "      <td>649.750067</td>\n",
       "      <td>Kolkata</td>\n",
       "      <td>WEST BENGAL</td>\n",
       "      <td>False</td>\n",
       "    </tr>\n",
       "  </tbody>\n",
       "</table>\n",
       "<p>11763 rows × 11 columns</p>\n",
       "</div>"
      ],
      "text/plain": [
       "            Date     Status Fulfilment ship-service-level       Category Size  \\\n",
       "0       04-30-22  Cancelled   Merchant           Standard            Set    S   \n",
       "3       04-30-22  Cancelled   Merchant           Standard  Western Dress    L   \n",
       "8       04-30-22  Cancelled     Amazon          Expedited            Set  3XL   \n",
       "23      04-30-22  Cancelled   Merchant           Standard            Set    M   \n",
       "29      04-30-22  Cancelled   Merchant           Standard          kurta  3XL   \n",
       "...          ...        ...        ...                ...            ...  ...   \n",
       "128902  05-31-22  Cancelled     Amazon          Expedited  Western Dress    L   \n",
       "128903  05-31-22  Cancelled     Amazon          Expedited          kurta    M   \n",
       "128907  05-31-22  Cancelled     Amazon          Expedited            Set  3XL   \n",
       "128958  05-31-22  Cancelled     Amazon          Expedited            Set    L   \n",
       "128967  05-31-22  Cancelled     Amazon          Expedited          kurta   XS   \n",
       "\n",
       "        Qty      Amount      ship-city      ship-state    B2B  \n",
       "0         0  647.620000         MUMBAI     MAHARASHTRA  False  \n",
       "3         0  753.330000     PUDUCHERRY      PUDUCHERRY  False  \n",
       "8         0  649.750067      HYDERABAD       TELANGANA  False  \n",
       "23        0  570.480000           pune     MAHARASHTRA  False  \n",
       "29        0  649.750067       GUWAHATI           ASSAM  False  \n",
       "...     ...         ...            ...             ...    ...  \n",
       "128902    0  649.750067      ANANTAPUR  ANDHRA PRADESH  False  \n",
       "128903    0  649.750067      ANANTAPUR  ANDHRA PRADESH  False  \n",
       "128907    0  649.750067  GREATER NOIDA   UTTAR PRADESH  False  \n",
       "128958    0  649.750067      Bengaluru       KARNATAKA  False  \n",
       "128967    0  649.750067        Kolkata     WEST BENGAL  False  \n",
       "\n",
       "[11763 rows x 11 columns]"
      ]
     },
     "execution_count": 43,
     "metadata": {},
     "output_type": "execute_result"
    }
   ],
   "source": [
    "zero_df = df[df[\"Qty\"] == 0]\n",
    "zero_df"
   ]
  },
  {
   "cell_type": "code",
   "execution_count": 44,
   "id": "6325e90a",
   "metadata": {},
   "outputs": [
    {
     "data": {
      "text/plain": [
       "Cancelled                       11664\n",
       "Shipped                            86\n",
       "Shipped - Delivered to Buyer        8\n",
       "Shipped - Returned to Seller        3\n",
       "Pending                             2\n",
       "Name: Status, dtype: int64"
      ]
     },
     "execution_count": 44,
     "metadata": {},
     "output_type": "execute_result"
    }
   ],
   "source": [
    "zero_df[\"Status\"].value_counts()"
   ]
  },
  {
   "cell_type": "markdown",
   "id": "b0c74a8a",
   "metadata": {},
   "source": [
    "There are alot of rows with \"Qty\" values = 0, and they represnt most of the rows with \"Cancelled\" in \"Status\", so i can't delete these rows, so i will replace 0 with the average value which is 1"
   ]
  },
  {
   "cell_type": "markdown",
   "id": "f0f5a18f",
   "metadata": {},
   "source": [
    "***limitation to the study***\n",
    "<br> there are alot of missing values that i had to replace "
   ]
  },
  {
   "cell_type": "code",
   "execution_count": 45,
   "id": "b04bfa63",
   "metadata": {},
   "outputs": [
    {
     "name": "stderr",
     "output_type": "stream",
     "text": [
      "C:\\Users\\HP\\AppData\\Local\\Temp\\ipykernel_8128\\2176274595.py:1: SettingWithCopyWarning: \n",
      "A value is trying to be set on a copy of a slice from a DataFrame\n",
      "\n",
      "See the caveats in the documentation: https://pandas.pydata.org/pandas-docs/stable/user_guide/indexing.html#returning-a-view-versus-a-copy\n",
      "  df[\"Qty\"].replace(0, 1, inplace = True)\n"
     ]
    }
   ],
   "source": [
    "df[\"Qty\"].replace(0, 1, inplace = True)"
   ]
  },
  {
   "cell_type": "code",
   "execution_count": 46,
   "id": "50ac40ec",
   "metadata": {},
   "outputs": [
    {
     "data": {
      "text/html": [
       "<div>\n",
       "<style scoped>\n",
       "    .dataframe tbody tr th:only-of-type {\n",
       "        vertical-align: middle;\n",
       "    }\n",
       "\n",
       "    .dataframe tbody tr th {\n",
       "        vertical-align: top;\n",
       "    }\n",
       "\n",
       "    .dataframe thead th {\n",
       "        text-align: right;\n",
       "    }\n",
       "</style>\n",
       "<table border=\"1\" class=\"dataframe\">\n",
       "  <thead>\n",
       "    <tr style=\"text-align: right;\">\n",
       "      <th></th>\n",
       "      <th>Qty</th>\n",
       "      <th>Amount</th>\n",
       "    </tr>\n",
       "  </thead>\n",
       "  <tbody>\n",
       "    <tr>\n",
       "      <th>count</th>\n",
       "      <td>124331.000000</td>\n",
       "      <td>124331.000000</td>\n",
       "    </tr>\n",
       "    <tr>\n",
       "      <th>mean</th>\n",
       "      <td>1.003507</td>\n",
       "      <td>649.763664</td>\n",
       "    </tr>\n",
       "    <tr>\n",
       "      <th>std</th>\n",
       "      <td>0.070072</td>\n",
       "      <td>274.330628</td>\n",
       "    </tr>\n",
       "    <tr>\n",
       "      <th>min</th>\n",
       "      <td>1.000000</td>\n",
       "      <td>0.000000</td>\n",
       "    </tr>\n",
       "    <tr>\n",
       "      <th>25%</th>\n",
       "      <td>1.000000</td>\n",
       "      <td>459.000000</td>\n",
       "    </tr>\n",
       "    <tr>\n",
       "      <th>50%</th>\n",
       "      <td>1.000000</td>\n",
       "      <td>634.290000</td>\n",
       "    </tr>\n",
       "    <tr>\n",
       "      <th>75%</th>\n",
       "      <td>1.000000</td>\n",
       "      <td>771.000000</td>\n",
       "    </tr>\n",
       "    <tr>\n",
       "      <th>max</th>\n",
       "      <td>8.000000</td>\n",
       "      <td>5584.000000</td>\n",
       "    </tr>\n",
       "  </tbody>\n",
       "</table>\n",
       "</div>"
      ],
      "text/plain": [
       "                 Qty         Amount\n",
       "count  124331.000000  124331.000000\n",
       "mean        1.003507     649.763664\n",
       "std         0.070072     274.330628\n",
       "min         1.000000       0.000000\n",
       "25%         1.000000     459.000000\n",
       "50%         1.000000     634.290000\n",
       "75%         1.000000     771.000000\n",
       "max         8.000000    5584.000000"
      ]
     },
     "execution_count": 46,
     "metadata": {},
     "output_type": "execute_result"
    }
   ],
   "source": [
    "df.describe()"
   ]
  },
  {
   "cell_type": "code",
   "execution_count": 47,
   "id": "02a0cf34",
   "metadata": {},
   "outputs": [
    {
     "data": {
      "text/html": [
       "<div>\n",
       "<style scoped>\n",
       "    .dataframe tbody tr th:only-of-type {\n",
       "        vertical-align: middle;\n",
       "    }\n",
       "\n",
       "    .dataframe tbody tr th {\n",
       "        vertical-align: top;\n",
       "    }\n",
       "\n",
       "    .dataframe thead th {\n",
       "        text-align: right;\n",
       "    }\n",
       "</style>\n",
       "<table border=\"1\" class=\"dataframe\">\n",
       "  <thead>\n",
       "    <tr style=\"text-align: right;\">\n",
       "      <th></th>\n",
       "      <th>Date</th>\n",
       "      <th>Status</th>\n",
       "      <th>Fulfilment</th>\n",
       "      <th>ship-service-level</th>\n",
       "      <th>Category</th>\n",
       "      <th>Size</th>\n",
       "      <th>Qty</th>\n",
       "      <th>Amount</th>\n",
       "      <th>ship-city</th>\n",
       "      <th>ship-state</th>\n",
       "      <th>B2B</th>\n",
       "    </tr>\n",
       "  </thead>\n",
       "  <tbody>\n",
       "    <tr>\n",
       "      <th>212</th>\n",
       "      <td>04-30-22</td>\n",
       "      <td>Shipped - Delivered to Buyer</td>\n",
       "      <td>Merchant</td>\n",
       "      <td>Standard</td>\n",
       "      <td>kurta</td>\n",
       "      <td>XXL</td>\n",
       "      <td>1</td>\n",
       "      <td>0.0</td>\n",
       "      <td>BHUBANESWAR</td>\n",
       "      <td>ODISHA</td>\n",
       "      <td>False</td>\n",
       "    </tr>\n",
       "    <tr>\n",
       "      <th>374</th>\n",
       "      <td>04-30-22</td>\n",
       "      <td>Shipped - Returned to Seller</td>\n",
       "      <td>Merchant</td>\n",
       "      <td>Standard</td>\n",
       "      <td>Western Dress</td>\n",
       "      <td>M</td>\n",
       "      <td>1</td>\n",
       "      <td>0.0</td>\n",
       "      <td>NEW DELHI</td>\n",
       "      <td>DELHI</td>\n",
       "      <td>False</td>\n",
       "    </tr>\n",
       "    <tr>\n",
       "      <th>385</th>\n",
       "      <td>04-30-22</td>\n",
       "      <td>Shipped</td>\n",
       "      <td>Amazon</td>\n",
       "      <td>Standard</td>\n",
       "      <td>kurta</td>\n",
       "      <td>L</td>\n",
       "      <td>1</td>\n",
       "      <td>0.0</td>\n",
       "      <td>DARJEELING</td>\n",
       "      <td>WEST BENGAL</td>\n",
       "      <td>False</td>\n",
       "    </tr>\n",
       "    <tr>\n",
       "      <th>388</th>\n",
       "      <td>04-30-22</td>\n",
       "      <td>Shipped - Delivered to Buyer</td>\n",
       "      <td>Merchant</td>\n",
       "      <td>Standard</td>\n",
       "      <td>Western Dress</td>\n",
       "      <td>XS</td>\n",
       "      <td>1</td>\n",
       "      <td>0.0</td>\n",
       "      <td>LUDHIANA</td>\n",
       "      <td>PUNJAB</td>\n",
       "      <td>False</td>\n",
       "    </tr>\n",
       "    <tr>\n",
       "      <th>392</th>\n",
       "      <td>04-30-22</td>\n",
       "      <td>Shipped</td>\n",
       "      <td>Amazon</td>\n",
       "      <td>Expedited</td>\n",
       "      <td>Set</td>\n",
       "      <td>L</td>\n",
       "      <td>1</td>\n",
       "      <td>0.0</td>\n",
       "      <td>MUMBAI</td>\n",
       "      <td>MAHARASHTRA</td>\n",
       "      <td>False</td>\n",
       "    </tr>\n",
       "    <tr>\n",
       "      <th>...</th>\n",
       "      <td>...</td>\n",
       "      <td>...</td>\n",
       "      <td>...</td>\n",
       "      <td>...</td>\n",
       "      <td>...</td>\n",
       "      <td>...</td>\n",
       "      <td>...</td>\n",
       "      <td>...</td>\n",
       "      <td>...</td>\n",
       "      <td>...</td>\n",
       "      <td>...</td>\n",
       "    </tr>\n",
       "    <tr>\n",
       "      <th>128550</th>\n",
       "      <td>06-01-22</td>\n",
       "      <td>Shipped</td>\n",
       "      <td>Amazon</td>\n",
       "      <td>Expedited</td>\n",
       "      <td>Set</td>\n",
       "      <td>L</td>\n",
       "      <td>1</td>\n",
       "      <td>0.0</td>\n",
       "      <td>CHENNAI</td>\n",
       "      <td>TAMIL NADU</td>\n",
       "      <td>False</td>\n",
       "    </tr>\n",
       "    <tr>\n",
       "      <th>128612</th>\n",
       "      <td>06-01-22</td>\n",
       "      <td>Shipped - Delivered to Buyer</td>\n",
       "      <td>Merchant</td>\n",
       "      <td>Standard</td>\n",
       "      <td>Bottom</td>\n",
       "      <td>M</td>\n",
       "      <td>1</td>\n",
       "      <td>0.0</td>\n",
       "      <td>INDORE</td>\n",
       "      <td>MADHYA PRADESH</td>\n",
       "      <td>False</td>\n",
       "    </tr>\n",
       "    <tr>\n",
       "      <th>128685</th>\n",
       "      <td>06-01-22</td>\n",
       "      <td>Shipped</td>\n",
       "      <td>Amazon</td>\n",
       "      <td>Standard</td>\n",
       "      <td>Western Dress</td>\n",
       "      <td>M</td>\n",
       "      <td>1</td>\n",
       "      <td>0.0</td>\n",
       "      <td>MOHALI</td>\n",
       "      <td>PUNJAB</td>\n",
       "      <td>False</td>\n",
       "    </tr>\n",
       "    <tr>\n",
       "      <th>128804</th>\n",
       "      <td>06-01-22</td>\n",
       "      <td>Shipped - Delivered to Buyer</td>\n",
       "      <td>Merchant</td>\n",
       "      <td>Standard</td>\n",
       "      <td>Set</td>\n",
       "      <td>XL</td>\n",
       "      <td>1</td>\n",
       "      <td>0.0</td>\n",
       "      <td>VADAKARA</td>\n",
       "      <td>KERALA</td>\n",
       "      <td>False</td>\n",
       "    </tr>\n",
       "    <tr>\n",
       "      <th>128837</th>\n",
       "      <td>06-01-22</td>\n",
       "      <td>Shipped</td>\n",
       "      <td>Amazon</td>\n",
       "      <td>Expedited</td>\n",
       "      <td>Set</td>\n",
       "      <td>L</td>\n",
       "      <td>1</td>\n",
       "      <td>0.0</td>\n",
       "      <td>HYDERABAD</td>\n",
       "      <td>TELANGANA</td>\n",
       "      <td>False</td>\n",
       "    </tr>\n",
       "  </tbody>\n",
       "</table>\n",
       "<p>2305 rows × 11 columns</p>\n",
       "</div>"
      ],
      "text/plain": [
       "            Date                        Status Fulfilment ship-service-level  \\\n",
       "212     04-30-22  Shipped - Delivered to Buyer   Merchant           Standard   \n",
       "374     04-30-22  Shipped - Returned to Seller   Merchant           Standard   \n",
       "385     04-30-22                       Shipped     Amazon           Standard   \n",
       "388     04-30-22  Shipped - Delivered to Buyer   Merchant           Standard   \n",
       "392     04-30-22                       Shipped     Amazon          Expedited   \n",
       "...          ...                           ...        ...                ...   \n",
       "128550  06-01-22                       Shipped     Amazon          Expedited   \n",
       "128612  06-01-22  Shipped - Delivered to Buyer   Merchant           Standard   \n",
       "128685  06-01-22                       Shipped     Amazon           Standard   \n",
       "128804  06-01-22  Shipped - Delivered to Buyer   Merchant           Standard   \n",
       "128837  06-01-22                       Shipped     Amazon          Expedited   \n",
       "\n",
       "             Category Size  Qty  Amount    ship-city      ship-state    B2B  \n",
       "212             kurta  XXL    1     0.0  BHUBANESWAR          ODISHA  False  \n",
       "374     Western Dress    M    1     0.0    NEW DELHI           DELHI  False  \n",
       "385             kurta    L    1     0.0   DARJEELING     WEST BENGAL  False  \n",
       "388     Western Dress   XS    1     0.0     LUDHIANA          PUNJAB  False  \n",
       "392               Set    L    1     0.0       MUMBAI     MAHARASHTRA  False  \n",
       "...               ...  ...  ...     ...          ...             ...    ...  \n",
       "128550            Set    L    1     0.0      CHENNAI      TAMIL NADU  False  \n",
       "128612         Bottom    M    1     0.0       INDORE  MADHYA PRADESH  False  \n",
       "128685  Western Dress    M    1     0.0       MOHALI          PUNJAB  False  \n",
       "128804            Set   XL    1     0.0     VADAKARA          KERALA  False  \n",
       "128837            Set    L    1     0.0    HYDERABAD       TELANGANA  False  \n",
       "\n",
       "[2305 rows x 11 columns]"
      ]
     },
     "execution_count": 47,
     "metadata": {},
     "output_type": "execute_result"
    }
   ],
   "source": [
    "zero_df = df[df[\"Amount\"] == 0]\n",
    "zero_df"
   ]
  },
  {
   "cell_type": "markdown",
   "id": "d6637988",
   "metadata": {},
   "source": [
    "I will deal with them as NaN values and replace them with the average"
   ]
  },
  {
   "cell_type": "code",
   "execution_count": 48,
   "id": "f970659d",
   "metadata": {},
   "outputs": [
    {
     "name": "stderr",
     "output_type": "stream",
     "text": [
      "C:\\Users\\HP\\AppData\\Local\\Temp\\ipykernel_8128\\631101926.py:1: SettingWithCopyWarning: \n",
      "A value is trying to be set on a copy of a slice from a DataFrame\n",
      "\n",
      "See the caveats in the documentation: https://pandas.pydata.org/pandas-docs/stable/user_guide/indexing.html#returning-a-view-versus-a-copy\n",
      "  df[\"Amount\"].replace(0, amount_mean, inplace = True)\n"
     ]
    }
   ],
   "source": [
    "df[\"Amount\"].replace(0, amount_mean, inplace = True)"
   ]
  },
  {
   "cell_type": "code",
   "execution_count": 49,
   "id": "b60d04f8",
   "metadata": {},
   "outputs": [
    {
     "data": {
      "text/html": [
       "<div>\n",
       "<style scoped>\n",
       "    .dataframe tbody tr th:only-of-type {\n",
       "        vertical-align: middle;\n",
       "    }\n",
       "\n",
       "    .dataframe tbody tr th {\n",
       "        vertical-align: top;\n",
       "    }\n",
       "\n",
       "    .dataframe thead th {\n",
       "        text-align: right;\n",
       "    }\n",
       "</style>\n",
       "<table border=\"1\" class=\"dataframe\">\n",
       "  <thead>\n",
       "    <tr style=\"text-align: right;\">\n",
       "      <th></th>\n",
       "      <th>Qty</th>\n",
       "      <th>Amount</th>\n",
       "    </tr>\n",
       "  </thead>\n",
       "  <tbody>\n",
       "    <tr>\n",
       "      <th>count</th>\n",
       "      <td>124331.000000</td>\n",
       "      <td>124331.000000</td>\n",
       "    </tr>\n",
       "    <tr>\n",
       "      <th>mean</th>\n",
       "      <td>1.003507</td>\n",
       "      <td>661.809524</td>\n",
       "    </tr>\n",
       "    <tr>\n",
       "      <th>std</th>\n",
       "      <td>0.070072</td>\n",
       "      <td>259.393523</td>\n",
       "    </tr>\n",
       "    <tr>\n",
       "      <th>min</th>\n",
       "      <td>1.000000</td>\n",
       "      <td>199.000000</td>\n",
       "    </tr>\n",
       "    <tr>\n",
       "      <th>25%</th>\n",
       "      <td>1.000000</td>\n",
       "      <td>469.000000</td>\n",
       "    </tr>\n",
       "    <tr>\n",
       "      <th>50%</th>\n",
       "      <td>1.000000</td>\n",
       "      <td>641.000000</td>\n",
       "    </tr>\n",
       "    <tr>\n",
       "      <th>75%</th>\n",
       "      <td>1.000000</td>\n",
       "      <td>771.000000</td>\n",
       "    </tr>\n",
       "    <tr>\n",
       "      <th>max</th>\n",
       "      <td>8.000000</td>\n",
       "      <td>5584.000000</td>\n",
       "    </tr>\n",
       "  </tbody>\n",
       "</table>\n",
       "</div>"
      ],
      "text/plain": [
       "                 Qty         Amount\n",
       "count  124331.000000  124331.000000\n",
       "mean        1.003507     661.809524\n",
       "std         0.070072     259.393523\n",
       "min         1.000000     199.000000\n",
       "25%         1.000000     469.000000\n",
       "50%         1.000000     641.000000\n",
       "75%         1.000000     771.000000\n",
       "max         8.000000    5584.000000"
      ]
     },
     "execution_count": 49,
     "metadata": {},
     "output_type": "execute_result"
    }
   ],
   "source": [
    "df.describe()"
   ]
  },
  {
   "cell_type": "code",
   "execution_count": 50,
   "id": "5cbf2d8b",
   "metadata": {},
   "outputs": [
    {
     "data": {
      "image/png": "[encoded data removed]",
      "text/plain": [
       "<Figure size 640x480 with 1 Axes>"
      ]
     },
     "metadata": {},
     "output_type": "display_data"
    }
   ],
   "source": [
    "df[\"B2B\"].value_counts().plot(kind = \"bar\")\n",
    "plt.title(\"B2B values\");"
   ]
  },
  {
   "cell_type": "markdown",
   "id": "4f839b0e",
   "metadata": {},
   "source": [
    "## Cleaning\n",
    "I made some cleaning steps in the last section, but they where essintial for my exploration, put here i will do most of the cleaning work"
   ]
  },
  {
   "cell_type": "markdown",
   "id": "2b22b210",
   "metadata": {},
   "source": [
    "First thing i want to change some names for some columns"
   ]
  },
  {
   "cell_type": "code",
   "execution_count": 51,
   "id": "1958afd1",
   "metadata": {},
   "outputs": [
    {
     "data": {
      "text/plain": [
       "Index(['Date', 'Status', 'Fulfilment', 'ship-service-level', 'Category',\n",
       "       'Size', 'Qty', 'Amount', 'ship-city', 'ship-state', 'B2B'],\n",
       "      dtype='object')"
      ]
     },
     "execution_count": 51,
     "metadata": {},
     "output_type": "execute_result"
    }
   ],
   "source": [
    "df.columns"
   ]
  },
  {
   "cell_type": "code",
   "execution_count": 52,
   "id": "e720a040",
   "metadata": {},
   "outputs": [],
   "source": [
    "df = df.rename(columns = {\"Status\": \"shipping_status\",\n",
    "                          \"Fulfilment\": \"fulfilment\",\n",
    "                          \"ship-service-level\": \"shipping_type\",\n",
    "                          \"Category\": \"category\",\n",
    "                          \"Size\": \"size\",\n",
    "                          \"Qty\": \"items_number\",\n",
    "                         \"Amount\": \"amount\",\n",
    "                         \"ship-city\": \"city\",\n",
    "                         \"ship-state\": \"state\"})"
   ]
  },
  {
   "cell_type": "code",
   "execution_count": 53,
   "id": "4692dcb9",
   "metadata": {},
   "outputs": [],
   "source": [
    "df = df.rename(columns = {\"Date\":\"date\"})"
   ]
  },
  {
   "cell_type": "code",
   "execution_count": 54,
   "id": "3952825d",
   "metadata": {},
   "outputs": [],
   "source": [
    "# I will change the data type in this column to time\n",
    "df[\"date\"] = pd.to_datetime(df[\"date\"])"
   ]
  },
  {
   "cell_type": "code",
   "execution_count": 55,
   "id": "67612a70",
   "metadata": {},
   "outputs": [
    {
     "name": "stdout",
     "output_type": "stream",
     "text": [
      "<class 'pandas.core.frame.DataFrame'>\n",
      "Int64Index: 124331 entries, 0 to 128974\n",
      "Data columns (total 11 columns):\n",
      " #   Column           Non-Null Count   Dtype         \n",
      "---  ------           --------------   -----         \n",
      " 0   date             124331 non-null  datetime64[ns]\n",
      " 1   shipping_status  124331 non-null  object        \n",
      " 2   fulfilment       124331 non-null  object        \n",
      " 3   shipping_type    124331 non-null  object        \n",
      " 4   category         124331 non-null  object        \n",
      " 5   size             124331 non-null  object        \n",
      " 6   items_number     124331 non-null  int64         \n",
      " 7   amount           124331 non-null  float64       \n",
      " 8   city             124331 non-null  object        \n",
      " 9   state            124331 non-null  object        \n",
      " 10  B2B              124331 non-null  bool          \n",
      "dtypes: bool(1), datetime64[ns](1), float64(1), int64(1), object(7)\n",
      "memory usage: 10.6+ MB\n"
     ]
    }
   ],
   "source": [
    "df.info()"
   ]
  },
  {
   "cell_type": "code",
   "execution_count": 56,
   "id": "0a3e484d",
   "metadata": {},
   "outputs": [],
   "source": [
    "# I will add a new column with the year of the sale\n",
    "df[\"year\"] = df[\"date\"].dt.year"
   ]
  },
  {
   "cell_type": "code",
   "execution_count": 57,
   "id": "94dc160e",
   "metadata": {},
   "outputs": [
    {
     "data": {
      "text/html": [
       "<div>\n",
       "<style scoped>\n",
       "    .dataframe tbody tr th:only-of-type {\n",
       "        vertical-align: middle;\n",
       "    }\n",
       "\n",
       "    .dataframe tbody tr th {\n",
       "        vertical-align: top;\n",
       "    }\n",
       "\n",
       "    .dataframe thead th {\n",
       "        text-align: right;\n",
       "    }\n",
       "</style>\n",
       "<table border=\"1\" class=\"dataframe\">\n",
       "  <thead>\n",
       "    <tr style=\"text-align: right;\">\n",
       "      <th></th>\n",
       "      <th>date</th>\n",
       "      <th>shipping_status</th>\n",
       "      <th>fulfilment</th>\n",
       "      <th>shipping_type</th>\n",
       "      <th>category</th>\n",
       "      <th>size</th>\n",
       "      <th>items_number</th>\n",
       "      <th>amount</th>\n",
       "      <th>city</th>\n",
       "      <th>state</th>\n",
       "      <th>B2B</th>\n",
       "      <th>year</th>\n",
       "    </tr>\n",
       "  </thead>\n",
       "  <tbody>\n",
       "    <tr>\n",
       "      <th>0</th>\n",
       "      <td>2022-04-30</td>\n",
       "      <td>Cancelled</td>\n",
       "      <td>Merchant</td>\n",
       "      <td>Standard</td>\n",
       "      <td>Set</td>\n",
       "      <td>S</td>\n",
       "      <td>1</td>\n",
       "      <td>647.62</td>\n",
       "      <td>MUMBAI</td>\n",
       "      <td>MAHARASHTRA</td>\n",
       "      <td>False</td>\n",
       "      <td>2022</td>\n",
       "    </tr>\n",
       "    <tr>\n",
       "      <th>1</th>\n",
       "      <td>2022-04-30</td>\n",
       "      <td>Shipped - Delivered to Buyer</td>\n",
       "      <td>Merchant</td>\n",
       "      <td>Standard</td>\n",
       "      <td>kurta</td>\n",
       "      <td>3XL</td>\n",
       "      <td>1</td>\n",
       "      <td>406.00</td>\n",
       "      <td>BENGALURU</td>\n",
       "      <td>KARNATAKA</td>\n",
       "      <td>False</td>\n",
       "      <td>2022</td>\n",
       "    </tr>\n",
       "  </tbody>\n",
       "</table>\n",
       "</div>"
      ],
      "text/plain": [
       "        date               shipping_status fulfilment shipping_type category  \\\n",
       "0 2022-04-30                     Cancelled   Merchant      Standard      Set   \n",
       "1 2022-04-30  Shipped - Delivered to Buyer   Merchant      Standard    kurta   \n",
       "\n",
       "  size  items_number  amount       city        state    B2B  year  \n",
       "0    S             1  647.62     MUMBAI  MAHARASHTRA  False  2022  \n",
       "1  3XL             1  406.00  BENGALURU    KARNATAKA  False  2022  "
      ]
     },
     "execution_count": 57,
     "metadata": {},
     "output_type": "execute_result"
    }
   ],
   "source": [
    "df.head(2)"
   ]
  },
  {
   "cell_type": "code",
   "execution_count": 58,
   "id": "500222d4",
   "metadata": {},
   "outputs": [
    {
     "data": {
      "text/plain": [
       "2022    124331\n",
       "Name: year, dtype: int64"
      ]
     },
     "execution_count": 58,
     "metadata": {},
     "output_type": "execute_result"
    }
   ],
   "source": [
    "df[\"year\"].value_counts()"
   ]
  },
  {
   "cell_type": "markdown",
   "id": "a1c8fd1a",
   "metadata": {},
   "source": [
    "all the values are the year 2022 so i will delete this column"
   ]
  },
  {
   "cell_type": "code",
   "execution_count": 59,
   "id": "31cc2ab3",
   "metadata": {},
   "outputs": [],
   "source": [
    "df.drop([\"year\"], axis = 1, inplace = True)"
   ]
  },
  {
   "cell_type": "code",
   "execution_count": 60,
   "id": "d2116a25",
   "metadata": {},
   "outputs": [],
   "source": [
    "#I will add a new column with the month\n",
    "df[\"month\"] = df[\"date\"].dt.month"
   ]
  },
  {
   "cell_type": "code",
   "execution_count": 61,
   "id": "e44f3fe6",
   "metadata": {},
   "outputs": [
    {
     "data": {
      "text/plain": [
       "4    47193\n",
       "5    40478\n",
       "6    36491\n",
       "3      169\n",
       "Name: month, dtype: int64"
      ]
     },
     "execution_count": 61,
     "metadata": {},
     "output_type": "execute_result"
    }
   ],
   "source": [
    "df[\"month\"].value_counts()"
   ]
  },
  {
   "cell_type": "markdown",
   "id": "0443e906",
   "metadata": {},
   "source": [
    "We have 4 months in this dataset \"March\", \"April\", \"May\", \"June\", so i will rename the vlues in the dataset"
   ]
  },
  {
   "cell_type": "code",
   "execution_count": 62,
   "id": "0089550f",
   "metadata": {},
   "outputs": [],
   "source": [
    "df[\"month\"].replace(3, \"march\", inplace = True)\n",
    "df[\"month\"].replace(4, \"april\", inplace = True)\n",
    "df[\"month\"].replace(5, \"may\", inplace = True)\n",
    "df[\"month\"].replace(6, \"june\", inplace = True)"
   ]
  },
  {
   "cell_type": "code",
   "execution_count": 63,
   "id": "0ed1845d",
   "metadata": {},
   "outputs": [
    {
     "data": {
      "text/plain": [
       "april    47193\n",
       "may      40478\n",
       "june     36491\n",
       "march      169\n",
       "Name: month, dtype: int64"
      ]
     },
     "execution_count": 63,
     "metadata": {},
     "output_type": "execute_result"
    }
   ],
   "source": [
    "df[\"month\"].value_counts()"
   ]
  },
  {
   "cell_type": "code",
   "execution_count": 64,
   "id": "9fe4bf98",
   "metadata": {},
   "outputs": [],
   "source": [
    "# I will add a new column with the day\n",
    "df[\"day\"] = df[\"date\"].dt.day_name()"
   ]
  },
  {
   "cell_type": "code",
   "execution_count": 65,
   "id": "cc4fd5e9",
   "metadata": {},
   "outputs": [
    {
     "data": {
      "text/plain": [
       "Sunday       18887\n",
       "Tuesday      18205\n",
       "Monday       17960\n",
       "Wednesday    17875\n",
       "Saturday     17814\n",
       "Friday       17095\n",
       "Thursday     16495\n",
       "Name: day, dtype: int64"
      ]
     },
     "execution_count": 65,
     "metadata": {},
     "output_type": "execute_result"
    }
   ],
   "source": [
    "df[\"day\"].value_counts()"
   ]
  },
  {
   "cell_type": "code",
   "execution_count": 66,
   "id": "f816c857",
   "metadata": {},
   "outputs": [
    {
     "data": {
      "text/html": [
       "<div>\n",
       "<style scoped>\n",
       "    .dataframe tbody tr th:only-of-type {\n",
       "        vertical-align: middle;\n",
       "    }\n",
       "\n",
       "    .dataframe tbody tr th {\n",
       "        vertical-align: top;\n",
       "    }\n",
       "\n",
       "    .dataframe thead th {\n",
       "        text-align: right;\n",
       "    }\n",
       "</style>\n",
       "<table border=\"1\" class=\"dataframe\">\n",
       "  <thead>\n",
       "    <tr style=\"text-align: right;\">\n",
       "      <th></th>\n",
       "      <th>date</th>\n",
       "      <th>shipping_status</th>\n",
       "      <th>fulfilment</th>\n",
       "      <th>shipping_type</th>\n",
       "      <th>category</th>\n",
       "      <th>size</th>\n",
       "      <th>items_number</th>\n",
       "      <th>amount</th>\n",
       "      <th>city</th>\n",
       "      <th>state</th>\n",
       "      <th>B2B</th>\n",
       "      <th>month</th>\n",
       "      <th>day</th>\n",
       "    </tr>\n",
       "  </thead>\n",
       "  <tbody>\n",
       "    <tr>\n",
       "      <th>0</th>\n",
       "      <td>2022-04-30</td>\n",
       "      <td>Cancelled</td>\n",
       "      <td>Merchant</td>\n",
       "      <td>Standard</td>\n",
       "      <td>Set</td>\n",
       "      <td>S</td>\n",
       "      <td>1</td>\n",
       "      <td>647.62</td>\n",
       "      <td>MUMBAI</td>\n",
       "      <td>MAHARASHTRA</td>\n",
       "      <td>False</td>\n",
       "      <td>april</td>\n",
       "      <td>Saturday</td>\n",
       "    </tr>\n",
       "    <tr>\n",
       "      <th>1</th>\n",
       "      <td>2022-04-30</td>\n",
       "      <td>Shipped - Delivered to Buyer</td>\n",
       "      <td>Merchant</td>\n",
       "      <td>Standard</td>\n",
       "      <td>kurta</td>\n",
       "      <td>3XL</td>\n",
       "      <td>1</td>\n",
       "      <td>406.00</td>\n",
       "      <td>BENGALURU</td>\n",
       "      <td>KARNATAKA</td>\n",
       "      <td>False</td>\n",
       "      <td>april</td>\n",
       "      <td>Saturday</td>\n",
       "    </tr>\n",
       "    <tr>\n",
       "      <th>2</th>\n",
       "      <td>2022-04-30</td>\n",
       "      <td>Shipped</td>\n",
       "      <td>Amazon</td>\n",
       "      <td>Expedited</td>\n",
       "      <td>kurta</td>\n",
       "      <td>XL</td>\n",
       "      <td>1</td>\n",
       "      <td>329.00</td>\n",
       "      <td>NAVI MUMBAI</td>\n",
       "      <td>MAHARASHTRA</td>\n",
       "      <td>True</td>\n",
       "      <td>april</td>\n",
       "      <td>Saturday</td>\n",
       "    </tr>\n",
       "    <tr>\n",
       "      <th>3</th>\n",
       "      <td>2022-04-30</td>\n",
       "      <td>Cancelled</td>\n",
       "      <td>Merchant</td>\n",
       "      <td>Standard</td>\n",
       "      <td>Western Dress</td>\n",
       "      <td>L</td>\n",
       "      <td>1</td>\n",
       "      <td>753.33</td>\n",
       "      <td>PUDUCHERRY</td>\n",
       "      <td>PUDUCHERRY</td>\n",
       "      <td>False</td>\n",
       "      <td>april</td>\n",
       "      <td>Saturday</td>\n",
       "    </tr>\n",
       "    <tr>\n",
       "      <th>4</th>\n",
       "      <td>2022-04-30</td>\n",
       "      <td>Shipped</td>\n",
       "      <td>Amazon</td>\n",
       "      <td>Expedited</td>\n",
       "      <td>Top</td>\n",
       "      <td>3XL</td>\n",
       "      <td>1</td>\n",
       "      <td>574.00</td>\n",
       "      <td>CHENNAI</td>\n",
       "      <td>TAMIL NADU</td>\n",
       "      <td>False</td>\n",
       "      <td>april</td>\n",
       "      <td>Saturday</td>\n",
       "    </tr>\n",
       "    <tr>\n",
       "      <th>...</th>\n",
       "      <td>...</td>\n",
       "      <td>...</td>\n",
       "      <td>...</td>\n",
       "      <td>...</td>\n",
       "      <td>...</td>\n",
       "      <td>...</td>\n",
       "      <td>...</td>\n",
       "      <td>...</td>\n",
       "      <td>...</td>\n",
       "      <td>...</td>\n",
       "      <td>...</td>\n",
       "      <td>...</td>\n",
       "      <td>...</td>\n",
       "    </tr>\n",
       "    <tr>\n",
       "      <th>128970</th>\n",
       "      <td>2022-05-31</td>\n",
       "      <td>Shipped</td>\n",
       "      <td>Amazon</td>\n",
       "      <td>Expedited</td>\n",
       "      <td>kurta</td>\n",
       "      <td>XL</td>\n",
       "      <td>1</td>\n",
       "      <td>517.00</td>\n",
       "      <td>HYDERABAD</td>\n",
       "      <td>TELANGANA</td>\n",
       "      <td>False</td>\n",
       "      <td>may</td>\n",
       "      <td>Tuesday</td>\n",
       "    </tr>\n",
       "    <tr>\n",
       "      <th>128971</th>\n",
       "      <td>2022-05-31</td>\n",
       "      <td>Shipped</td>\n",
       "      <td>Amazon</td>\n",
       "      <td>Expedited</td>\n",
       "      <td>Set</td>\n",
       "      <td>M</td>\n",
       "      <td>1</td>\n",
       "      <td>999.00</td>\n",
       "      <td>GURUGRAM</td>\n",
       "      <td>HARYANA</td>\n",
       "      <td>False</td>\n",
       "      <td>may</td>\n",
       "      <td>Tuesday</td>\n",
       "    </tr>\n",
       "    <tr>\n",
       "      <th>128972</th>\n",
       "      <td>2022-05-31</td>\n",
       "      <td>Shipped</td>\n",
       "      <td>Amazon</td>\n",
       "      <td>Expedited</td>\n",
       "      <td>Western Dress</td>\n",
       "      <td>XXL</td>\n",
       "      <td>1</td>\n",
       "      <td>690.00</td>\n",
       "      <td>HYDERABAD</td>\n",
       "      <td>TELANGANA</td>\n",
       "      <td>False</td>\n",
       "      <td>may</td>\n",
       "      <td>Tuesday</td>\n",
       "    </tr>\n",
       "    <tr>\n",
       "      <th>128973</th>\n",
       "      <td>2022-05-31</td>\n",
       "      <td>Shipped</td>\n",
       "      <td>Amazon</td>\n",
       "      <td>Expedited</td>\n",
       "      <td>Set</td>\n",
       "      <td>XS</td>\n",
       "      <td>1</td>\n",
       "      <td>1199.00</td>\n",
       "      <td>Halol</td>\n",
       "      <td>Gujarat</td>\n",
       "      <td>False</td>\n",
       "      <td>may</td>\n",
       "      <td>Tuesday</td>\n",
       "    </tr>\n",
       "    <tr>\n",
       "      <th>128974</th>\n",
       "      <td>2022-05-31</td>\n",
       "      <td>Shipped</td>\n",
       "      <td>Amazon</td>\n",
       "      <td>Expedited</td>\n",
       "      <td>Set</td>\n",
       "      <td>S</td>\n",
       "      <td>1</td>\n",
       "      <td>696.00</td>\n",
       "      <td>Raipur</td>\n",
       "      <td>CHHATTISGARH</td>\n",
       "      <td>False</td>\n",
       "      <td>may</td>\n",
       "      <td>Tuesday</td>\n",
       "    </tr>\n",
       "  </tbody>\n",
       "</table>\n",
       "<p>124331 rows × 13 columns</p>\n",
       "</div>"
      ],
      "text/plain": [
       "             date               shipping_status fulfilment shipping_type  \\\n",
       "0      2022-04-30                     Cancelled   Merchant      Standard   \n",
       "1      2022-04-30  Shipped - Delivered to Buyer   Merchant      Standard   \n",
       "2      2022-04-30                       Shipped     Amazon     Expedited   \n",
       "3      2022-04-30                     Cancelled   Merchant      Standard   \n",
       "4      2022-04-30                       Shipped     Amazon     Expedited   \n",
       "...           ...                           ...        ...           ...   \n",
       "128970 2022-05-31                       Shipped     Amazon     Expedited   \n",
       "128971 2022-05-31                       Shipped     Amazon     Expedited   \n",
       "128972 2022-05-31                       Shipped     Amazon     Expedited   \n",
       "128973 2022-05-31                       Shipped     Amazon     Expedited   \n",
       "128974 2022-05-31                       Shipped     Amazon     Expedited   \n",
       "\n",
       "             category size  items_number   amount         city         state  \\\n",
       "0                 Set    S             1   647.62       MUMBAI   MAHARASHTRA   \n",
       "1               kurta  3XL             1   406.00    BENGALURU     KARNATAKA   \n",
       "2               kurta   XL             1   329.00  NAVI MUMBAI   MAHARASHTRA   \n",
       "3       Western Dress    L             1   753.33   PUDUCHERRY    PUDUCHERRY   \n",
       "4                 Top  3XL             1   574.00      CHENNAI    TAMIL NADU   \n",
       "...               ...  ...           ...      ...          ...           ...   \n",
       "128970          kurta   XL             1   517.00    HYDERABAD     TELANGANA   \n",
       "128971            Set    M             1   999.00     GURUGRAM       HARYANA   \n",
       "128972  Western Dress  XXL             1   690.00    HYDERABAD     TELANGANA   \n",
       "128973            Set   XS             1  1199.00        Halol       Gujarat   \n",
       "128974            Set    S             1   696.00       Raipur  CHHATTISGARH   \n",
       "\n",
       "          B2B  month       day  \n",
       "0       False  april  Saturday  \n",
       "1       False  april  Saturday  \n",
       "2        True  april  Saturday  \n",
       "3       False  april  Saturday  \n",
       "4       False  april  Saturday  \n",
       "...       ...    ...       ...  \n",
       "128970  False    may   Tuesday  \n",
       "128971  False    may   Tuesday  \n",
       "128972  False    may   Tuesday  \n",
       "128973  False    may   Tuesday  \n",
       "128974  False    may   Tuesday  \n",
       "\n",
       "[124331 rows x 13 columns]"
      ]
     },
     "execution_count": 66,
     "metadata": {},
     "output_type": "execute_result"
    }
   ],
   "source": [
    "df"
   ]
  },
  {
   "cell_type": "code",
   "execution_count": 67,
   "id": "88ac707f",
   "metadata": {},
   "outputs": [],
   "source": [
    "# I want to change the order of the columns\n",
    "df = df.iloc[:, [0, 12, 11, 1, 2, 3, 4, 5, 6, 7, 8, 9, 10]]"
   ]
  },
  {
   "cell_type": "code",
   "execution_count": 68,
   "id": "872e1ca1",
   "metadata": {},
   "outputs": [
    {
     "data": {
      "text/plain": [
       "Shipped                          75215\n",
       "Shipped - Delivered to Buyer     28165\n",
       "Cancelled                        16934\n",
       "Shipped - Returned to Seller      1942\n",
       "Shipped - Picked Up                966\n",
       "                                 ...  \n",
       "Shipped - Returning to Seller      143\n",
       "Shipped - Out for Delivery          35\n",
       "Shipped - Rejected by Buyer         11\n",
       "Shipped - Lost in Transit            4\n",
       "Shipped - Damaged                    1\n",
       "Name: shipping_status, Length: 12, dtype: int64"
      ]
     },
     "execution_count": 68,
     "metadata": {},
     "output_type": "execute_result"
    }
   ],
   "source": [
    "df[\"shipping_status\"].value_counts()"
   ]
  },
  {
   "cell_type": "markdown",
   "id": "7b64256e",
   "metadata": {},
   "source": [
    "<br>- \"Shipped\", \"Shipped - Delivered to Buyer\", \"Shipped - Picked Up\", \"Shipped - Out for Delivery\", i will change them to just \"delivered\"\n",
    "<br>- \"Cancelled\" i will keep it the same\n",
    "<br>- \"Shipped - Returned to Seller\", \"Shipped - Returning to Seller\", and \"Shipped - Rejected by Buyer\" i will change them to \"returned\"\n",
    "<br>- \"pending\" and \"Pending - Waiting for Pick Up\" i will make them \"pending\"\n",
    "<br>- \"lost in transit\" i will make it \"lost\"\n",
    "<br>- \"Damaged\" I will remove it becouse it's just one value"
   ]
  },
  {
   "cell_type": "code",
   "execution_count": 69,
   "id": "e9307d79",
   "metadata": {},
   "outputs": [
    {
     "name": "stderr",
     "output_type": "stream",
     "text": [
      "C:\\Users\\HP\\AppData\\Local\\Temp\\ipykernel_8128\\702213546.py:1: SettingWithCopyWarning: \n",
      "A value is trying to be set on a copy of a slice from a DataFrame\n",
      "\n",
      "See the caveats in the documentation: https://pandas.pydata.org/pandas-docs/stable/user_guide/indexing.html#returning-a-view-versus-a-copy\n",
      "  df[\"shipping_status\"].replace(\"Shipped - Delivered to Buyer\", \"Shipped\", inplace = True)\n"
     ]
    }
   ],
   "source": [
    "df[\"shipping_status\"].replace(\"Shipped - Delivered to Buyer\", \"Shipped\", inplace = True)"
   ]
  },
  {
   "cell_type": "code",
   "execution_count": 70,
   "id": "a98d46c9",
   "metadata": {},
   "outputs": [
    {
     "name": "stderr",
     "output_type": "stream",
     "text": [
      "C:\\Users\\HP\\AppData\\Local\\Temp\\ipykernel_8128\\3379267310.py:1: SettingWithCopyWarning: \n",
      "A value is trying to be set on a copy of a slice from a DataFrame\n",
      "\n",
      "See the caveats in the documentation: https://pandas.pydata.org/pandas-docs/stable/user_guide/indexing.html#returning-a-view-versus-a-copy\n",
      "  df[\"shipping_status\"].replace(\"Shipped - Picked Up\", \"Shipped\", inplace = True)\n",
      "C:\\Users\\HP\\AppData\\Local\\Temp\\ipykernel_8128\\3379267310.py:2: SettingWithCopyWarning: \n",
      "A value is trying to be set on a copy of a slice from a DataFrame\n",
      "\n",
      "See the caveats in the documentation: https://pandas.pydata.org/pandas-docs/stable/user_guide/indexing.html#returning-a-view-versus-a-copy\n",
      "  df[\"shipping_status\"].replace(\"Shipped - Out for Delivery\", \"Shipped\", inplace = True)\n",
      "C:\\Users\\HP\\AppData\\Local\\Temp\\ipykernel_8128\\3379267310.py:3: SettingWithCopyWarning: \n",
      "A value is trying to be set on a copy of a slice from a DataFrame\n",
      "\n",
      "See the caveats in the documentation: https://pandas.pydata.org/pandas-docs/stable/user_guide/indexing.html#returning-a-view-versus-a-copy\n",
      "  df[\"shipping_status\"].replace(\"Shipped\", \"shipped\", inplace = True)\n",
      "C:\\Users\\HP\\AppData\\Local\\Temp\\ipykernel_8128\\3379267310.py:4: SettingWithCopyWarning: \n",
      "A value is trying to be set on a copy of a slice from a DataFrame\n",
      "\n",
      "See the caveats in the documentation: https://pandas.pydata.org/pandas-docs/stable/user_guide/indexing.html#returning-a-view-versus-a-copy\n",
      "  df[\"shipping_status\"].replace(\"Cancelled\", \"cancelled\", inplace = True)\n",
      "C:\\Users\\HP\\AppData\\Local\\Temp\\ipykernel_8128\\3379267310.py:5: SettingWithCopyWarning: \n",
      "A value is trying to be set on a copy of a slice from a DataFrame\n",
      "\n",
      "See the caveats in the documentation: https://pandas.pydata.org/pandas-docs/stable/user_guide/indexing.html#returning-a-view-versus-a-copy\n",
      "  df[\"shipping_status\"].replace(\"Shipped - Returned to Seller\", \"returned\", inplace = True)\n",
      "C:\\Users\\HP\\AppData\\Local\\Temp\\ipykernel_8128\\3379267310.py:6: SettingWithCopyWarning: \n",
      "A value is trying to be set on a copy of a slice from a DataFrame\n",
      "\n",
      "See the caveats in the documentation: https://pandas.pydata.org/pandas-docs/stable/user_guide/indexing.html#returning-a-view-versus-a-copy\n",
      "  df[\"shipping_status\"].replace(\"Shipped - Returning to Seller\", \"returned\", inplace = True)\n",
      "C:\\Users\\HP\\AppData\\Local\\Temp\\ipykernel_8128\\3379267310.py:7: SettingWithCopyWarning: \n",
      "A value is trying to be set on a copy of a slice from a DataFrame\n",
      "\n",
      "See the caveats in the documentation: https://pandas.pydata.org/pandas-docs/stable/user_guide/indexing.html#returning-a-view-versus-a-copy\n",
      "  df[\"shipping_status\"].replace(\"Shipped - Rejected by Buyer\", \"returned\", inplace = True)\n",
      "C:\\Users\\HP\\AppData\\Local\\Temp\\ipykernel_8128\\3379267310.py:8: SettingWithCopyWarning: \n",
      "A value is trying to be set on a copy of a slice from a DataFrame\n",
      "\n",
      "See the caveats in the documentation: https://pandas.pydata.org/pandas-docs/stable/user_guide/indexing.html#returning-a-view-versus-a-copy\n",
      "  df[\"shipping_status\"].replace(\"Pending\", \"pending\", inplace = True)\n",
      "C:\\Users\\HP\\AppData\\Local\\Temp\\ipykernel_8128\\3379267310.py:9: SettingWithCopyWarning: \n",
      "A value is trying to be set on a copy of a slice from a DataFrame\n",
      "\n",
      "See the caveats in the documentation: https://pandas.pydata.org/pandas-docs/stable/user_guide/indexing.html#returning-a-view-versus-a-copy\n",
      "  df[\"shipping_status\"].replace(\"Pending - Waiting for Pick Up\", \"pending\", inplace = True)\n",
      "C:\\Users\\HP\\AppData\\Local\\Temp\\ipykernel_8128\\3379267310.py:10: SettingWithCopyWarning: \n",
      "A value is trying to be set on a copy of a slice from a DataFrame\n",
      "\n",
      "See the caveats in the documentation: https://pandas.pydata.org/pandas-docs/stable/user_guide/indexing.html#returning-a-view-versus-a-copy\n",
      "  df[\"shipping_status\"].replace(\"Shipped - Lost in Transit\", \"lost\", inplace = True)\n"
     ]
    }
   ],
   "source": [
    "df[\"shipping_status\"].replace(\"Shipped - Picked Up\", \"Shipped\", inplace = True)\n",
    "df[\"shipping_status\"].replace(\"Shipped - Out for Delivery\", \"Shipped\", inplace = True)\n",
    "df[\"shipping_status\"].replace(\"Shipped\", \"shipped\", inplace = True)\n",
    "df[\"shipping_status\"].replace(\"Cancelled\", \"cancelled\", inplace = True)\n",
    "df[\"shipping_status\"].replace(\"Shipped - Returned to Seller\", \"returned\", inplace = True)\n",
    "df[\"shipping_status\"].replace(\"Shipped - Returning to Seller\", \"returned\", inplace = True)\n",
    "df[\"shipping_status\"].replace(\"Shipped - Rejected by Buyer\", \"returned\", inplace = True)\n",
    "df[\"shipping_status\"].replace(\"Pending\", \"pending\", inplace = True)\n",
    "df[\"shipping_status\"].replace(\"Pending - Waiting for Pick Up\", \"pending\", inplace = True)\n",
    "df[\"shipping_status\"].replace(\"Shipped - Lost in Transit\", \"lost\", inplace = True)"
   ]
  },
  {
   "cell_type": "code",
   "execution_count": 71,
   "id": "68583367",
   "metadata": {},
   "outputs": [],
   "source": [
    "df = df[df[\"shipping_status\"] != \"Shipped - Damaged\"]"
   ]
  },
  {
   "cell_type": "code",
   "execution_count": 72,
   "id": "5a84818b",
   "metadata": {},
   "outputs": [
    {
     "data": {
      "text/plain": [
       "shipped      104381\n",
       "cancelled     16934\n",
       "returned       2096\n",
       "pending         915\n",
       "lost              4\n",
       "Name: shipping_status, dtype: int64"
      ]
     },
     "execution_count": 72,
     "metadata": {},
     "output_type": "execute_result"
    }
   ],
   "source": [
    "df[\"shipping_status\"].value_counts()"
   ]
  },
  {
   "cell_type": "markdown",
   "id": "a39b0083",
   "metadata": {},
   "source": [
    "# Analysis"
   ]
  },
  {
   "cell_type": "markdown",
   "id": "41f65640",
   "metadata": {},
   "source": [
    "## 1- For the busines owner, basic statitcs\n",
    "**I will make my mane varible is the catgeory (\"Traditional, Set, others), and i will give him statitcs about it** \n",
    "\n",
    "- The size of each category\n",
    "- the dominant fulfilment of each catgeory\n",
    "- the highst city in each category\n",
    "- the average amount of each category\n",
    "- shipping_type for each category"
   ]
  },
  {
   "cell_type": "code",
   "execution_count": 73,
   "id": "f75f8af5",
   "metadata": {},
   "outputs": [
    {
     "data": {
      "text/html": [
       "<div>\n",
       "<style scoped>\n",
       "    .dataframe tbody tr th:only-of-type {\n",
       "        vertical-align: middle;\n",
       "    }\n",
       "\n",
       "    .dataframe tbody tr th {\n",
       "        vertical-align: top;\n",
       "    }\n",
       "\n",
       "    .dataframe thead th {\n",
       "        text-align: right;\n",
       "    }\n",
       "</style>\n",
       "<table border=\"1\" class=\"dataframe\">\n",
       "  <thead>\n",
       "    <tr style=\"text-align: right;\">\n",
       "      <th></th>\n",
       "      <th>date</th>\n",
       "      <th>day</th>\n",
       "      <th>month</th>\n",
       "      <th>shipping_status</th>\n",
       "      <th>fulfilment</th>\n",
       "      <th>shipping_type</th>\n",
       "      <th>category</th>\n",
       "      <th>size</th>\n",
       "      <th>items_number</th>\n",
       "      <th>amount</th>\n",
       "      <th>city</th>\n",
       "      <th>state</th>\n",
       "      <th>B2B</th>\n",
       "    </tr>\n",
       "  </thead>\n",
       "  <tbody>\n",
       "    <tr>\n",
       "      <th>0</th>\n",
       "      <td>2022-04-30</td>\n",
       "      <td>Saturday</td>\n",
       "      <td>april</td>\n",
       "      <td>cancelled</td>\n",
       "      <td>Merchant</td>\n",
       "      <td>Standard</td>\n",
       "      <td>Set</td>\n",
       "      <td>S</td>\n",
       "      <td>1</td>\n",
       "      <td>647.62</td>\n",
       "      <td>MUMBAI</td>\n",
       "      <td>MAHARASHTRA</td>\n",
       "      <td>False</td>\n",
       "    </tr>\n",
       "    <tr>\n",
       "      <th>1</th>\n",
       "      <td>2022-04-30</td>\n",
       "      <td>Saturday</td>\n",
       "      <td>april</td>\n",
       "      <td>shipped</td>\n",
       "      <td>Merchant</td>\n",
       "      <td>Standard</td>\n",
       "      <td>kurta</td>\n",
       "      <td>3XL</td>\n",
       "      <td>1</td>\n",
       "      <td>406.00</td>\n",
       "      <td>BENGALURU</td>\n",
       "      <td>KARNATAKA</td>\n",
       "      <td>False</td>\n",
       "    </tr>\n",
       "    <tr>\n",
       "      <th>2</th>\n",
       "      <td>2022-04-30</td>\n",
       "      <td>Saturday</td>\n",
       "      <td>april</td>\n",
       "      <td>shipped</td>\n",
       "      <td>Amazon</td>\n",
       "      <td>Expedited</td>\n",
       "      <td>kurta</td>\n",
       "      <td>XL</td>\n",
       "      <td>1</td>\n",
       "      <td>329.00</td>\n",
       "      <td>NAVI MUMBAI</td>\n",
       "      <td>MAHARASHTRA</td>\n",
       "      <td>True</td>\n",
       "    </tr>\n",
       "    <tr>\n",
       "      <th>3</th>\n",
       "      <td>2022-04-30</td>\n",
       "      <td>Saturday</td>\n",
       "      <td>april</td>\n",
       "      <td>cancelled</td>\n",
       "      <td>Merchant</td>\n",
       "      <td>Standard</td>\n",
       "      <td>Western Dress</td>\n",
       "      <td>L</td>\n",
       "      <td>1</td>\n",
       "      <td>753.33</td>\n",
       "      <td>PUDUCHERRY</td>\n",
       "      <td>PUDUCHERRY</td>\n",
       "      <td>False</td>\n",
       "    </tr>\n",
       "    <tr>\n",
       "      <th>4</th>\n",
       "      <td>2022-04-30</td>\n",
       "      <td>Saturday</td>\n",
       "      <td>april</td>\n",
       "      <td>shipped</td>\n",
       "      <td>Amazon</td>\n",
       "      <td>Expedited</td>\n",
       "      <td>Top</td>\n",
       "      <td>3XL</td>\n",
       "      <td>1</td>\n",
       "      <td>574.00</td>\n",
       "      <td>CHENNAI</td>\n",
       "      <td>TAMIL NADU</td>\n",
       "      <td>False</td>\n",
       "    </tr>\n",
       "    <tr>\n",
       "      <th>...</th>\n",
       "      <td>...</td>\n",
       "      <td>...</td>\n",
       "      <td>...</td>\n",
       "      <td>...</td>\n",
       "      <td>...</td>\n",
       "      <td>...</td>\n",
       "      <td>...</td>\n",
       "      <td>...</td>\n",
       "      <td>...</td>\n",
       "      <td>...</td>\n",
       "      <td>...</td>\n",
       "      <td>...</td>\n",
       "      <td>...</td>\n",
       "    </tr>\n",
       "    <tr>\n",
       "      <th>128970</th>\n",
       "      <td>2022-05-31</td>\n",
       "      <td>Tuesday</td>\n",
       "      <td>may</td>\n",
       "      <td>shipped</td>\n",
       "      <td>Amazon</td>\n",
       "      <td>Expedited</td>\n",
       "      <td>kurta</td>\n",
       "      <td>XL</td>\n",
       "      <td>1</td>\n",
       "      <td>517.00</td>\n",
       "      <td>HYDERABAD</td>\n",
       "      <td>TELANGANA</td>\n",
       "      <td>False</td>\n",
       "    </tr>\n",
       "    <tr>\n",
       "      <th>128971</th>\n",
       "      <td>2022-05-31</td>\n",
       "      <td>Tuesday</td>\n",
       "      <td>may</td>\n",
       "      <td>shipped</td>\n",
       "      <td>Amazon</td>\n",
       "      <td>Expedited</td>\n",
       "      <td>Set</td>\n",
       "      <td>M</td>\n",
       "      <td>1</td>\n",
       "      <td>999.00</td>\n",
       "      <td>GURUGRAM</td>\n",
       "      <td>HARYANA</td>\n",
       "      <td>False</td>\n",
       "    </tr>\n",
       "    <tr>\n",
       "      <th>128972</th>\n",
       "      <td>2022-05-31</td>\n",
       "      <td>Tuesday</td>\n",
       "      <td>may</td>\n",
       "      <td>shipped</td>\n",
       "      <td>Amazon</td>\n",
       "      <td>Expedited</td>\n",
       "      <td>Western Dress</td>\n",
       "      <td>XXL</td>\n",
       "      <td>1</td>\n",
       "      <td>690.00</td>\n",
       "      <td>HYDERABAD</td>\n",
       "      <td>TELANGANA</td>\n",
       "      <td>False</td>\n",
       "    </tr>\n",
       "    <tr>\n",
       "      <th>128973</th>\n",
       "      <td>2022-05-31</td>\n",
       "      <td>Tuesday</td>\n",
       "      <td>may</td>\n",
       "      <td>shipped</td>\n",
       "      <td>Amazon</td>\n",
       "      <td>Expedited</td>\n",
       "      <td>Set</td>\n",
       "      <td>XS</td>\n",
       "      <td>1</td>\n",
       "      <td>1199.00</td>\n",
       "      <td>Halol</td>\n",
       "      <td>Gujarat</td>\n",
       "      <td>False</td>\n",
       "    </tr>\n",
       "    <tr>\n",
       "      <th>128974</th>\n",
       "      <td>2022-05-31</td>\n",
       "      <td>Tuesday</td>\n",
       "      <td>may</td>\n",
       "      <td>shipped</td>\n",
       "      <td>Amazon</td>\n",
       "      <td>Expedited</td>\n",
       "      <td>Set</td>\n",
       "      <td>S</td>\n",
       "      <td>1</td>\n",
       "      <td>696.00</td>\n",
       "      <td>Raipur</td>\n",
       "      <td>CHHATTISGARH</td>\n",
       "      <td>False</td>\n",
       "    </tr>\n",
       "  </tbody>\n",
       "</table>\n",
       "<p>124330 rows × 13 columns</p>\n",
       "</div>"
      ],
      "text/plain": [
       "             date       day  month shipping_status fulfilment shipping_type  \\\n",
       "0      2022-04-30  Saturday  april       cancelled   Merchant      Standard   \n",
       "1      2022-04-30  Saturday  april         shipped   Merchant      Standard   \n",
       "2      2022-04-30  Saturday  april         shipped     Amazon     Expedited   \n",
       "3      2022-04-30  Saturday  april       cancelled   Merchant      Standard   \n",
       "4      2022-04-30  Saturday  april         shipped     Amazon     Expedited   \n",
       "...           ...       ...    ...             ...        ...           ...   \n",
       "128970 2022-05-31   Tuesday    may         shipped     Amazon     Expedited   \n",
       "128971 2022-05-31   Tuesday    may         shipped     Amazon     Expedited   \n",
       "128972 2022-05-31   Tuesday    may         shipped     Amazon     Expedited   \n",
       "128973 2022-05-31   Tuesday    may         shipped     Amazon     Expedited   \n",
       "128974 2022-05-31   Tuesday    may         shipped     Amazon     Expedited   \n",
       "\n",
       "             category size  items_number   amount         city         state  \\\n",
       "0                 Set    S             1   647.62       MUMBAI   MAHARASHTRA   \n",
       "1               kurta  3XL             1   406.00    BENGALURU     KARNATAKA   \n",
       "2               kurta   XL             1   329.00  NAVI MUMBAI   MAHARASHTRA   \n",
       "3       Western Dress    L             1   753.33   PUDUCHERRY    PUDUCHERRY   \n",
       "4                 Top  3XL             1   574.00      CHENNAI    TAMIL NADU   \n",
       "...               ...  ...           ...      ...          ...           ...   \n",
       "128970          kurta   XL             1   517.00    HYDERABAD     TELANGANA   \n",
       "128971            Set    M             1   999.00     GURUGRAM       HARYANA   \n",
       "128972  Western Dress  XXL             1   690.00    HYDERABAD     TELANGANA   \n",
       "128973            Set   XS             1  1199.00        Halol       Gujarat   \n",
       "128974            Set    S             1   696.00       Raipur  CHHATTISGARH   \n",
       "\n",
       "          B2B  \n",
       "0       False  \n",
       "1       False  \n",
       "2        True  \n",
       "3       False  \n",
       "4       False  \n",
       "...       ...  \n",
       "128970  False  \n",
       "128971  False  \n",
       "128972  False  \n",
       "128973  False  \n",
       "128974  False  \n",
       "\n",
       "[124330 rows x 13 columns]"
      ]
     },
     "execution_count": 73,
     "metadata": {},
     "output_type": "execute_result"
    }
   ],
   "source": [
    "df"
   ]
  },
  {
   "cell_type": "code",
   "execution_count": 74,
   "id": "2082af0f",
   "metadata": {},
   "outputs": [],
   "source": [
    "# I want to make a copy to work with, and i will delte the column that i won't need here\n",
    "df_statistics = df.drop([\"B2B\", \"date\"], axis = 1)"
   ]
  },
  {
   "cell_type": "code",
   "execution_count": 75,
   "id": "d29de0e2",
   "metadata": {},
   "outputs": [
    {
     "data": {
      "text/html": [
       "<div>\n",
       "<style scoped>\n",
       "    .dataframe tbody tr th:only-of-type {\n",
       "        vertical-align: middle;\n",
       "    }\n",
       "\n",
       "    .dataframe tbody tr th {\n",
       "        vertical-align: top;\n",
       "    }\n",
       "\n",
       "    .dataframe thead th {\n",
       "        text-align: right;\n",
       "    }\n",
       "</style>\n",
       "<table border=\"1\" class=\"dataframe\">\n",
       "  <thead>\n",
       "    <tr style=\"text-align: right;\">\n",
       "      <th></th>\n",
       "      <th>day</th>\n",
       "      <th>month</th>\n",
       "      <th>shipping_status</th>\n",
       "      <th>fulfilment</th>\n",
       "      <th>shipping_type</th>\n",
       "      <th>category</th>\n",
       "      <th>size</th>\n",
       "      <th>items_number</th>\n",
       "      <th>amount</th>\n",
       "      <th>city</th>\n",
       "      <th>state</th>\n",
       "    </tr>\n",
       "  </thead>\n",
       "  <tbody>\n",
       "    <tr>\n",
       "      <th>0</th>\n",
       "      <td>Saturday</td>\n",
       "      <td>april</td>\n",
       "      <td>cancelled</td>\n",
       "      <td>Merchant</td>\n",
       "      <td>Standard</td>\n",
       "      <td>Set</td>\n",
       "      <td>S</td>\n",
       "      <td>1</td>\n",
       "      <td>647.62</td>\n",
       "      <td>MUMBAI</td>\n",
       "      <td>MAHARASHTRA</td>\n",
       "    </tr>\n",
       "    <tr>\n",
       "      <th>1</th>\n",
       "      <td>Saturday</td>\n",
       "      <td>april</td>\n",
       "      <td>shipped</td>\n",
       "      <td>Merchant</td>\n",
       "      <td>Standard</td>\n",
       "      <td>kurta</td>\n",
       "      <td>3XL</td>\n",
       "      <td>1</td>\n",
       "      <td>406.00</td>\n",
       "      <td>BENGALURU</td>\n",
       "      <td>KARNATAKA</td>\n",
       "    </tr>\n",
       "    <tr>\n",
       "      <th>2</th>\n",
       "      <td>Saturday</td>\n",
       "      <td>april</td>\n",
       "      <td>shipped</td>\n",
       "      <td>Amazon</td>\n",
       "      <td>Expedited</td>\n",
       "      <td>kurta</td>\n",
       "      <td>XL</td>\n",
       "      <td>1</td>\n",
       "      <td>329.00</td>\n",
       "      <td>NAVI MUMBAI</td>\n",
       "      <td>MAHARASHTRA</td>\n",
       "    </tr>\n",
       "    <tr>\n",
       "      <th>3</th>\n",
       "      <td>Saturday</td>\n",
       "      <td>april</td>\n",
       "      <td>cancelled</td>\n",
       "      <td>Merchant</td>\n",
       "      <td>Standard</td>\n",
       "      <td>Western Dress</td>\n",
       "      <td>L</td>\n",
       "      <td>1</td>\n",
       "      <td>753.33</td>\n",
       "      <td>PUDUCHERRY</td>\n",
       "      <td>PUDUCHERRY</td>\n",
       "    </tr>\n",
       "    <tr>\n",
       "      <th>4</th>\n",
       "      <td>Saturday</td>\n",
       "      <td>april</td>\n",
       "      <td>shipped</td>\n",
       "      <td>Amazon</td>\n",
       "      <td>Expedited</td>\n",
       "      <td>Top</td>\n",
       "      <td>3XL</td>\n",
       "      <td>1</td>\n",
       "      <td>574.00</td>\n",
       "      <td>CHENNAI</td>\n",
       "      <td>TAMIL NADU</td>\n",
       "    </tr>\n",
       "    <tr>\n",
       "      <th>...</th>\n",
       "      <td>...</td>\n",
       "      <td>...</td>\n",
       "      <td>...</td>\n",
       "      <td>...</td>\n",
       "      <td>...</td>\n",
       "      <td>...</td>\n",
       "      <td>...</td>\n",
       "      <td>...</td>\n",
       "      <td>...</td>\n",
       "      <td>...</td>\n",
       "      <td>...</td>\n",
       "    </tr>\n",
       "    <tr>\n",
       "      <th>128970</th>\n",
       "      <td>Tuesday</td>\n",
       "      <td>may</td>\n",
       "      <td>shipped</td>\n",
       "      <td>Amazon</td>\n",
       "      <td>Expedited</td>\n",
       "      <td>kurta</td>\n",
       "      <td>XL</td>\n",
       "      <td>1</td>\n",
       "      <td>517.00</td>\n",
       "      <td>HYDERABAD</td>\n",
       "      <td>TELANGANA</td>\n",
       "    </tr>\n",
       "    <tr>\n",
       "      <th>128971</th>\n",
       "      <td>Tuesday</td>\n",
       "      <td>may</td>\n",
       "      <td>shipped</td>\n",
       "      <td>Amazon</td>\n",
       "      <td>Expedited</td>\n",
       "      <td>Set</td>\n",
       "      <td>M</td>\n",
       "      <td>1</td>\n",
       "      <td>999.00</td>\n",
       "      <td>GURUGRAM</td>\n",
       "      <td>HARYANA</td>\n",
       "    </tr>\n",
       "    <tr>\n",
       "      <th>128972</th>\n",
       "      <td>Tuesday</td>\n",
       "      <td>may</td>\n",
       "      <td>shipped</td>\n",
       "      <td>Amazon</td>\n",
       "      <td>Expedited</td>\n",
       "      <td>Western Dress</td>\n",
       "      <td>XXL</td>\n",
       "      <td>1</td>\n",
       "      <td>690.00</td>\n",
       "      <td>HYDERABAD</td>\n",
       "      <td>TELANGANA</td>\n",
       "    </tr>\n",
       "    <tr>\n",
       "      <th>128973</th>\n",
       "      <td>Tuesday</td>\n",
       "      <td>may</td>\n",
       "      <td>shipped</td>\n",
       "      <td>Amazon</td>\n",
       "      <td>Expedited</td>\n",
       "      <td>Set</td>\n",
       "      <td>XS</td>\n",
       "      <td>1</td>\n",
       "      <td>1199.00</td>\n",
       "      <td>Halol</td>\n",
       "      <td>Gujarat</td>\n",
       "    </tr>\n",
       "    <tr>\n",
       "      <th>128974</th>\n",
       "      <td>Tuesday</td>\n",
       "      <td>may</td>\n",
       "      <td>shipped</td>\n",
       "      <td>Amazon</td>\n",
       "      <td>Expedited</td>\n",
       "      <td>Set</td>\n",
       "      <td>S</td>\n",
       "      <td>1</td>\n",
       "      <td>696.00</td>\n",
       "      <td>Raipur</td>\n",
       "      <td>CHHATTISGARH</td>\n",
       "    </tr>\n",
       "  </tbody>\n",
       "</table>\n",
       "<p>124330 rows × 11 columns</p>\n",
       "</div>"
      ],
      "text/plain": [
       "             day  month shipping_status fulfilment shipping_type  \\\n",
       "0       Saturday  april       cancelled   Merchant      Standard   \n",
       "1       Saturday  april         shipped   Merchant      Standard   \n",
       "2       Saturday  april         shipped     Amazon     Expedited   \n",
       "3       Saturday  april       cancelled   Merchant      Standard   \n",
       "4       Saturday  april         shipped     Amazon     Expedited   \n",
       "...          ...    ...             ...        ...           ...   \n",
       "128970   Tuesday    may         shipped     Amazon     Expedited   \n",
       "128971   Tuesday    may         shipped     Amazon     Expedited   \n",
       "128972   Tuesday    may         shipped     Amazon     Expedited   \n",
       "128973   Tuesday    may         shipped     Amazon     Expedited   \n",
       "128974   Tuesday    may         shipped     Amazon     Expedited   \n",
       "\n",
       "             category size  items_number   amount         city         state  \n",
       "0                 Set    S             1   647.62       MUMBAI   MAHARASHTRA  \n",
       "1               kurta  3XL             1   406.00    BENGALURU     KARNATAKA  \n",
       "2               kurta   XL             1   329.00  NAVI MUMBAI   MAHARASHTRA  \n",
       "3       Western Dress    L             1   753.33   PUDUCHERRY    PUDUCHERRY  \n",
       "4                 Top  3XL             1   574.00      CHENNAI    TAMIL NADU  \n",
       "...               ...  ...           ...      ...          ...           ...  \n",
       "128970          kurta   XL             1   517.00    HYDERABAD     TELANGANA  \n",
       "128971            Set    M             1   999.00     GURUGRAM       HARYANA  \n",
       "128972  Western Dress  XXL             1   690.00    HYDERABAD     TELANGANA  \n",
       "128973            Set   XS             1  1199.00        Halol       Gujarat  \n",
       "128974            Set    S             1   696.00       Raipur  CHHATTISGARH  \n",
       "\n",
       "[124330 rows x 11 columns]"
      ]
     },
     "execution_count": 75,
     "metadata": {},
     "output_type": "execute_result"
    }
   ],
   "source": [
    "df_statistics"
   ]
  },
  {
   "cell_type": "code",
   "execution_count": 76,
   "id": "009c338f",
   "metadata": {},
   "outputs": [
    {
     "data": {
      "text/plain": [
       "Set              48784\n",
       "kurta            47769\n",
       "Western Dress    14779\n",
       "Top              10368\n",
       "Ethnic Dress      1152\n",
       "Blouse             900\n",
       "Bottom             421\n",
       "Saree              155\n",
       "Dupatta              2\n",
       "Name: category, dtype: int64"
      ]
     },
     "execution_count": 76,
     "metadata": {},
     "output_type": "execute_result"
    }
   ],
   "source": [
    "df_statistics[\"category\"].value_counts()"
   ]
  },
  {
   "cell_type": "code",
   "execution_count": 77,
   "id": "00ac693c",
   "metadata": {},
   "outputs": [
    {
     "data": {
      "text/plain": [
       "True"
      ]
     },
     "execution_count": 77,
     "metadata": {},
     "output_type": "execute_result"
    }
   ],
   "source": [
    "df_statistics[\"category\"].iloc[5] == \"Set\""
   ]
  },
  {
   "cell_type": "code",
   "execution_count": 78,
   "id": "551d4ef6",
   "metadata": {},
   "outputs": [],
   "source": [
    "\"\"\"\n",
    "This for loop is going to iterate over all of the values in the dataset and create a new column, that shows if the type \n",
    "of clothes is tradional indian or set or others\n",
    "\n",
    "tradional indian are(\"kurta\", \"Ethnic Dress\", \"Saree\", \"Dupatta\")\n",
    "\"\"\"\n",
    "dress_type = []\n",
    "\n",
    "for index in range(len(df_statistics)):\n",
    "    if df_statistics[\"category\"].iloc[index] == \"Set\":\n",
    "        dress_type.append(\"set\")\n",
    "    elif df_statistics[\"category\"].iloc[index] == \"kurta\":\n",
    "        dress_type.append(\"traditional\")\n",
    "    elif df_statistics[\"category\"].iloc[index] == \"Ethnic Dress\":\n",
    "        dress_type.append(\"traditional\")\n",
    "    elif df_statistics[\"category\"].iloc[index] == \"Saree\":\n",
    "        dress_type.append(\"traditional\")\n",
    "    elif df_statistics[\"category\"].iloc[index] == \"Dupatta\":\n",
    "        dress_type.append(\"traditional\")\n",
    "    else:\n",
    "        dress_type.append(\"others\")\n",
    "        \n",
    "        "
   ]
  },
  {
   "cell_type": "code",
   "execution_count": 79,
   "id": "fccf802c",
   "metadata": {},
   "outputs": [],
   "source": [
    "df_statistics[\"dress_type\"] = dress_type"
   ]
  },
  {
   "cell_type": "code",
   "execution_count": 80,
   "id": "530d8830",
   "metadata": {},
   "outputs": [],
   "source": [
    "df_statistics = df_statistics.iloc[:, [0, 1, 2, 3, 4, 5, 11, 6, 7, 8, 9, 10]]"
   ]
  },
  {
   "cell_type": "code",
   "execution_count": 81,
   "id": "35dbd1c7",
   "metadata": {},
   "outputs": [
    {
     "name": "stderr",
     "output_type": "stream",
     "text": [
      "C:\\Users\\HP\\AppData\\Local\\Temp\\ipykernel_8128\\425232688.py:2: SettingWithCopyWarning: \n",
      "A value is trying to be set on a copy of a slice from a DataFrame\n",
      "\n",
      "See the caveats in the documentation: https://pandas.pydata.org/pandas-docs/stable/user_guide/indexing.html#returning-a-view-versus-a-copy\n",
      "  df_statistics.drop([\"category\"], axis = 1, inplace = True)\n"
     ]
    }
   ],
   "source": [
    "# Now we don't need the category column\n",
    "df_statistics.drop([\"category\"], axis = 1, inplace = True)"
   ]
  },
  {
   "cell_type": "code",
   "execution_count": 82,
   "id": "bb326447",
   "metadata": {},
   "outputs": [
    {
     "data": {
      "text/html": [
       "<div>\n",
       "<style scoped>\n",
       "    .dataframe tbody tr th:only-of-type {\n",
       "        vertical-align: middle;\n",
       "    }\n",
       "\n",
       "    .dataframe tbody tr th {\n",
       "        vertical-align: top;\n",
       "    }\n",
       "\n",
       "    .dataframe thead th {\n",
       "        text-align: right;\n",
       "    }\n",
       "</style>\n",
       "<table border=\"1\" class=\"dataframe\">\n",
       "  <thead>\n",
       "    <tr style=\"text-align: right;\">\n",
       "      <th></th>\n",
       "      <th>day</th>\n",
       "      <th>month</th>\n",
       "      <th>shipping_status</th>\n",
       "      <th>fulfilment</th>\n",
       "      <th>shipping_type</th>\n",
       "      <th>dress_type</th>\n",
       "      <th>size</th>\n",
       "      <th>items_number</th>\n",
       "      <th>amount</th>\n",
       "      <th>city</th>\n",
       "      <th>state</th>\n",
       "    </tr>\n",
       "  </thead>\n",
       "  <tbody>\n",
       "    <tr>\n",
       "      <th>0</th>\n",
       "      <td>Saturday</td>\n",
       "      <td>april</td>\n",
       "      <td>cancelled</td>\n",
       "      <td>Merchant</td>\n",
       "      <td>Standard</td>\n",
       "      <td>set</td>\n",
       "      <td>S</td>\n",
       "      <td>1</td>\n",
       "      <td>647.62</td>\n",
       "      <td>MUMBAI</td>\n",
       "      <td>MAHARASHTRA</td>\n",
       "    </tr>\n",
       "    <tr>\n",
       "      <th>1</th>\n",
       "      <td>Saturday</td>\n",
       "      <td>april</td>\n",
       "      <td>shipped</td>\n",
       "      <td>Merchant</td>\n",
       "      <td>Standard</td>\n",
       "      <td>traditional</td>\n",
       "      <td>3XL</td>\n",
       "      <td>1</td>\n",
       "      <td>406.00</td>\n",
       "      <td>BENGALURU</td>\n",
       "      <td>KARNATAKA</td>\n",
       "    </tr>\n",
       "    <tr>\n",
       "      <th>2</th>\n",
       "      <td>Saturday</td>\n",
       "      <td>april</td>\n",
       "      <td>shipped</td>\n",
       "      <td>Amazon</td>\n",
       "      <td>Expedited</td>\n",
       "      <td>traditional</td>\n",
       "      <td>XL</td>\n",
       "      <td>1</td>\n",
       "      <td>329.00</td>\n",
       "      <td>NAVI MUMBAI</td>\n",
       "      <td>MAHARASHTRA</td>\n",
       "    </tr>\n",
       "    <tr>\n",
       "      <th>3</th>\n",
       "      <td>Saturday</td>\n",
       "      <td>april</td>\n",
       "      <td>cancelled</td>\n",
       "      <td>Merchant</td>\n",
       "      <td>Standard</td>\n",
       "      <td>others</td>\n",
       "      <td>L</td>\n",
       "      <td>1</td>\n",
       "      <td>753.33</td>\n",
       "      <td>PUDUCHERRY</td>\n",
       "      <td>PUDUCHERRY</td>\n",
       "    </tr>\n",
       "    <tr>\n",
       "      <th>4</th>\n",
       "      <td>Saturday</td>\n",
       "      <td>april</td>\n",
       "      <td>shipped</td>\n",
       "      <td>Amazon</td>\n",
       "      <td>Expedited</td>\n",
       "      <td>others</td>\n",
       "      <td>3XL</td>\n",
       "      <td>1</td>\n",
       "      <td>574.00</td>\n",
       "      <td>CHENNAI</td>\n",
       "      <td>TAMIL NADU</td>\n",
       "    </tr>\n",
       "    <tr>\n",
       "      <th>...</th>\n",
       "      <td>...</td>\n",
       "      <td>...</td>\n",
       "      <td>...</td>\n",
       "      <td>...</td>\n",
       "      <td>...</td>\n",
       "      <td>...</td>\n",
       "      <td>...</td>\n",
       "      <td>...</td>\n",
       "      <td>...</td>\n",
       "      <td>...</td>\n",
       "      <td>...</td>\n",
       "    </tr>\n",
       "    <tr>\n",
       "      <th>128970</th>\n",
       "      <td>Tuesday</td>\n",
       "      <td>may</td>\n",
       "      <td>shipped</td>\n",
       "      <td>Amazon</td>\n",
       "      <td>Expedited</td>\n",
       "      <td>traditional</td>\n",
       "      <td>XL</td>\n",
       "      <td>1</td>\n",
       "      <td>517.00</td>\n",
       "      <td>HYDERABAD</td>\n",
       "      <td>TELANGANA</td>\n",
       "    </tr>\n",
       "    <tr>\n",
       "      <th>128971</th>\n",
       "      <td>Tuesday</td>\n",
       "      <td>may</td>\n",
       "      <td>shipped</td>\n",
       "      <td>Amazon</td>\n",
       "      <td>Expedited</td>\n",
       "      <td>set</td>\n",
       "      <td>M</td>\n",
       "      <td>1</td>\n",
       "      <td>999.00</td>\n",
       "      <td>GURUGRAM</td>\n",
       "      <td>HARYANA</td>\n",
       "    </tr>\n",
       "    <tr>\n",
       "      <th>128972</th>\n",
       "      <td>Tuesday</td>\n",
       "      <td>may</td>\n",
       "      <td>shipped</td>\n",
       "      <td>Amazon</td>\n",
       "      <td>Expedited</td>\n",
       "      <td>others</td>\n",
       "      <td>XXL</td>\n",
       "      <td>1</td>\n",
       "      <td>690.00</td>\n",
       "      <td>HYDERABAD</td>\n",
       "      <td>TELANGANA</td>\n",
       "    </tr>\n",
       "    <tr>\n",
       "      <th>128973</th>\n",
       "      <td>Tuesday</td>\n",
       "      <td>may</td>\n",
       "      <td>shipped</td>\n",
       "      <td>Amazon</td>\n",
       "      <td>Expedited</td>\n",
       "      <td>set</td>\n",
       "      <td>XS</td>\n",
       "      <td>1</td>\n",
       "      <td>1199.00</td>\n",
       "      <td>Halol</td>\n",
       "      <td>Gujarat</td>\n",
       "    </tr>\n",
       "    <tr>\n",
       "      <th>128974</th>\n",
       "      <td>Tuesday</td>\n",
       "      <td>may</td>\n",
       "      <td>shipped</td>\n",
       "      <td>Amazon</td>\n",
       "      <td>Expedited</td>\n",
       "      <td>set</td>\n",
       "      <td>S</td>\n",
       "      <td>1</td>\n",
       "      <td>696.00</td>\n",
       "      <td>Raipur</td>\n",
       "      <td>CHHATTISGARH</td>\n",
       "    </tr>\n",
       "  </tbody>\n",
       "</table>\n",
       "<p>124330 rows × 11 columns</p>\n",
       "</div>"
      ],
      "text/plain": [
       "             day  month shipping_status fulfilment shipping_type   dress_type  \\\n",
       "0       Saturday  april       cancelled   Merchant      Standard          set   \n",
       "1       Saturday  april         shipped   Merchant      Standard  traditional   \n",
       "2       Saturday  april         shipped     Amazon     Expedited  traditional   \n",
       "3       Saturday  april       cancelled   Merchant      Standard       others   \n",
       "4       Saturday  april         shipped     Amazon     Expedited       others   \n",
       "...          ...    ...             ...        ...           ...          ...   \n",
       "128970   Tuesday    may         shipped     Amazon     Expedited  traditional   \n",
       "128971   Tuesday    may         shipped     Amazon     Expedited          set   \n",
       "128972   Tuesday    may         shipped     Amazon     Expedited       others   \n",
       "128973   Tuesday    may         shipped     Amazon     Expedited          set   \n",
       "128974   Tuesday    may         shipped     Amazon     Expedited          set   \n",
       "\n",
       "       size  items_number   amount         city         state  \n",
       "0         S             1   647.62       MUMBAI   MAHARASHTRA  \n",
       "1       3XL             1   406.00    BENGALURU     KARNATAKA  \n",
       "2        XL             1   329.00  NAVI MUMBAI   MAHARASHTRA  \n",
       "3         L             1   753.33   PUDUCHERRY    PUDUCHERRY  \n",
       "4       3XL             1   574.00      CHENNAI    TAMIL NADU  \n",
       "...     ...           ...      ...          ...           ...  \n",
       "128970   XL             1   517.00    HYDERABAD     TELANGANA  \n",
       "128971    M             1   999.00     GURUGRAM       HARYANA  \n",
       "128972  XXL             1   690.00    HYDERABAD     TELANGANA  \n",
       "128973   XS             1  1199.00        Halol       Gujarat  \n",
       "128974    S             1   696.00       Raipur  CHHATTISGARH  \n",
       "\n",
       "[124330 rows x 11 columns]"
      ]
     },
     "execution_count": 82,
     "metadata": {},
     "output_type": "execute_result"
    }
   ],
   "source": [
    "df_statistics"
   ]
  },
  {
   "cell_type": "code",
   "execution_count": 83,
   "id": "c9c04e9c",
   "metadata": {},
   "outputs": [
    {
     "data": {
      "image/png": "[encoded data removed]",
      "text/plain": [
       "<Figure size 640x480 with 1 Axes>"
      ]
     },
     "metadata": {},
     "output_type": "display_data"
    }
   ],
   "source": [
    "df_statistics[\"dress_type\"].value_counts().plot(kind = \"pie\", explode = [0.05, 0.05, 0.05,], autopct = \"%1.2f%%\")\n",
    "plt.title(\"Percent of each dress type in the dataset\");"
   ]
  },
  {
   "cell_type": "markdown",
   "id": "5e03d71d",
   "metadata": {},
   "source": [
    "this grapgh shows **The percent of apperance of each dress type in the dataset** and it seems that **The traditional and the set have appeard nearly the same**"
   ]
  },
  {
   "cell_type": "code",
   "execution_count": 84,
   "id": "b4ea5cac",
   "metadata": {},
   "outputs": [
    {
     "data": {
      "text/html": [
       "<div>\n",
       "<style scoped>\n",
       "    .dataframe tbody tr th:only-of-type {\n",
       "        vertical-align: middle;\n",
       "    }\n",
       "\n",
       "    .dataframe tbody tr th {\n",
       "        vertical-align: top;\n",
       "    }\n",
       "\n",
       "    .dataframe thead th {\n",
       "        text-align: right;\n",
       "    }\n",
       "</style>\n",
       "<table border=\"1\" class=\"dataframe\">\n",
       "  <thead>\n",
       "    <tr style=\"text-align: right;\">\n",
       "      <th></th>\n",
       "      <th>count</th>\n",
       "      <th>mean</th>\n",
       "      <th>max</th>\n",
       "      <th>min</th>\n",
       "    </tr>\n",
       "    <tr>\n",
       "      <th>dress_type</th>\n",
       "      <th></th>\n",
       "      <th></th>\n",
       "      <th></th>\n",
       "      <th></th>\n",
       "    </tr>\n",
       "  </thead>\n",
       "  <tbody>\n",
       "    <tr>\n",
       "      <th>others</th>\n",
       "      <td>26468</td>\n",
       "      <td>665.138598</td>\n",
       "      <td>2860.0</td>\n",
       "      <td>218.1</td>\n",
       "    </tr>\n",
       "    <tr>\n",
       "      <th>set</th>\n",
       "      <td>48784</td>\n",
       "      <td>836.352813</td>\n",
       "      <td>5584.0</td>\n",
       "      <td>357.0</td>\n",
       "    </tr>\n",
       "    <tr>\n",
       "      <th>traditional</th>\n",
       "      <td>49078</td>\n",
       "      <td>486.506784</td>\n",
       "      <td>2796.0</td>\n",
       "      <td>199.0</td>\n",
       "    </tr>\n",
       "  </tbody>\n",
       "</table>\n",
       "</div>"
      ],
      "text/plain": [
       "             count        mean     max    min\n",
       "dress_type                                   \n",
       "others       26468  665.138598  2860.0  218.1\n",
       "set          48784  836.352813  5584.0  357.0\n",
       "traditional  49078  486.506784  2796.0  199.0"
      ]
     },
     "execution_count": 84,
     "metadata": {},
     "output_type": "execute_result"
    }
   ],
   "source": [
    "df_statistics.groupby(\"dress_type\")[\"amount\"].agg([\"count\", \"mean\", \"max\", \"min\"])"
   ]
  },
  {
   "cell_type": "code",
   "execution_count": 85,
   "id": "136acace",
   "metadata": {},
   "outputs": [
    {
     "data": {
      "text/plain": [
       "dress_type\n",
       "others         1.003363\n",
       "set            1.002747\n",
       "traditional    1.004340\n",
       "Name: items_number, dtype: float64"
      ]
     },
     "execution_count": 85,
     "metadata": {},
     "output_type": "execute_result"
    }
   ],
   "source": [
    "df_statistics.groupby(\"dress_type\")[\"items_number\"].mean()"
   ]
  },
  {
   "cell_type": "code",
   "execution_count": 86,
   "id": "a23c125e",
   "metadata": {},
   "outputs": [
    {
     "data": {
      "image/png": "[encoded data removed]",
      "text/plain": [
       "<Figure size 640x480 with 1 Axes>"
      ]
     },
     "metadata": {},
     "output_type": "display_data"
    }
   ],
   "source": [
    "data = df_statistics.groupby(\"dress_type\")[\"amount\"].mean()\n",
    "\n",
    "plt.bar([1,0,2], data, tick_label = [\"others\", \"set\", \"traditional\"])\n",
    "plt.title(\"Average amount spent in each dress type\", size = 14)\n",
    "plt.xlabel(\"Dress type\", size =12)\n",
    "plt.ylabel(\"Amount in INR\", size =12);"
   ]
  },
  {
   "cell_type": "code",
   "execution_count": 87,
   "id": "3a73dcf1",
   "metadata": {},
   "outputs": [
    {
     "data": {
      "image/png": "[encoded data removed]",
      "text/plain": [
       "<Figure size 640x480 with 1 Axes>"
      ]
     },
     "metadata": {},
     "output_type": "display_data"
    }
   ],
   "source": [
    "df_statistics.groupby(\"dress_type\")[\"amount\"].sum().plot(kind = \"pie\", explode = [0.05, 0.05, 0.05], autopct = \"%1.2f%%\")\n",
    "plt.title(\"Total amount spent in each dress type\", size = 14);"
   ]
  },
  {
   "cell_type": "markdown",
   "id": "2884f2fc",
   "metadata": {},
   "source": [
    "From thses two graphs we can say that **The set is higher in average and in total amount spent compared to any other dress type** and **There is a big demand on traditional clothes but they are cheep** but this doesn't mean that the set market is more proftiable because **we don't have any information about the cost in any category**"
   ]
  },
  {
   "cell_type": "code",
   "execution_count": 88,
   "id": "229666bb",
   "metadata": {},
   "outputs": [
    {
     "data": {
      "text/plain": [
       "dress_type   fulfilment\n",
       "others       Amazon        16888\n",
       "             Merchant       9580\n",
       "set          Amazon        34355\n",
       "             Merchant      14429\n",
       "traditional  Amazon        34881\n",
       "             Merchant      14197\n",
       "Name: amount, dtype: int64"
      ]
     },
     "execution_count": 88,
     "metadata": {},
     "output_type": "execute_result"
    }
   ],
   "source": [
    "# I want to know who controls the most supply in each category \"Amazon\" or other merchants\n",
    "df_statistics.groupby([\"dress_type\", \"fulfilment\"])[\"amount\"].count()"
   ]
  },
  {
   "cell_type": "code",
   "execution_count": 89,
   "id": "f7f69a64",
   "metadata": {},
   "outputs": [],
   "source": [
    "df_amazon = df_statistics[df_statistics[\"fulfilment\"] == \"Amazon\"]"
   ]
  },
  {
   "cell_type": "code",
   "execution_count": 90,
   "id": "5ea2db2d",
   "metadata": {},
   "outputs": [],
   "source": [
    "df_merchant = df_statistics[df_statistics[\"fulfilment\"] == \"Merchant\"]"
   ]
  },
  {
   "cell_type": "code",
   "execution_count": 91,
   "id": "6e98e2a9",
   "metadata": {},
   "outputs": [
    {
     "data": {
      "image/png": "[encoded data removed]",
      "text/plain": [
       "<Figure size 640x480 with 1 Axes>"
      ]
     },
     "metadata": {},
     "output_type": "display_data"
    }
   ],
   "source": [
    "data_merchant = df_merchant.groupby(\"dress_type\")[\"amount\"].count()\n",
    "data_amazon = df_amazon.groupby(\"dress_type\")[\"amount\"].count()\n",
    "\n",
    "ind = np.arange(3)\n",
    "tick_label = [\"others\", \"set\", \"traditional\"]\n",
    "\n",
    "plt.bar(ind + 0.2, data_amazon, width = 0.4, tick_label = tick_label, label = \"amazon\", color = \"black\", alpha = 0.7)\n",
    "plt.bar(ind - 0.2, data_merchant, width = 0.4, tick_label = tick_label , label = \"merchant\", color = \"red\", alpha = 0.7)\n",
    "\n",
    "plt.title(\"Comparsion between fulfilment in each dress type\", size = 14)\n",
    "plt.xlabel(\"Dress types\", size = 12)\n",
    "plt.ylabel(\"Count in the data set\", size = 12)\n",
    "plt.xticks(ind, tick_label)\n",
    "plt.legend();"
   ]
  },
  {
   "cell_type": "markdown",
   "id": "cbdf91f7",
   "metadata": {},
   "source": [
    "we can see that **Amazon controls most of the supply in each dress type**"
   ]
  },
  {
   "cell_type": "code",
   "execution_count": 92,
   "id": "a455f5fc",
   "metadata": {},
   "outputs": [
    {
     "data": {
      "image/png": "[encoded data removed]",
      "text/plain": [
       "<Figure size 640x480 with 1 Axes>"
      ]
     },
     "metadata": {},
     "output_type": "display_data"
    }
   ],
   "source": [
    "# i want to know if amazon sells with lower prices\n",
    "\n",
    "data_merchant = df_merchant.groupby(\"dress_type\")[\"amount\"].mean()\n",
    "data_amazon = df_amazon.groupby(\"dress_type\")[\"amount\"].mean()\n",
    "\n",
    "ind = np.arange(3)\n",
    "tick_label = [\"others\", \"set\", \"traditional\"]\n",
    "\n",
    "plt.bar(ind + 0.2, data_amazon, width = 0.4, tick_label = tick_label, label = \"amazon\", color = \"black\", alpha = 0.7)\n",
    "plt.bar(ind - 0.2, data_merchant, width = 0.4, tick_label = tick_label , label = \"merchant\", color = \"red\", alpha = 0.7)\n",
    "\n",
    "plt.title(\"Comparsion between average price in each dress type for each fulfilment method\", size = 14)\n",
    "plt.xlabel(\"Dress types\", size = 12)\n",
    "plt.ylabel(\"Price in INR\", size = 12)\n",
    "plt.xticks(ind, tick_label)\n",
    "plt.legend();"
   ]
  },
  {
   "cell_type": "markdown",
   "id": "51425f14",
   "metadata": {},
   "source": [
    "I found that **The average price is nearly the same for amazon and merchants so the price is not the reason for amazon to control most of the supply**\n",
    "\n",
    "***Disclimar***\n",
    "<br>This dataset doesn't provide us with the enough information to say what is the reason that amazon controls most of the supply"
   ]
  },
  {
   "cell_type": "markdown",
   "id": "8f1417ad",
   "metadata": {},
   "source": [
    "**Now i want to convert the direction of my analysis into cities and see how amnount spent and dress type is affected by each city**"
   ]
  },
  {
   "cell_type": "code",
   "execution_count": 93,
   "id": "059354a1",
   "metadata": {},
   "outputs": [
    {
     "data": {
      "text/html": [
       "<div>\n",
       "<style scoped>\n",
       "    .dataframe tbody tr th:only-of-type {\n",
       "        vertical-align: middle;\n",
       "    }\n",
       "\n",
       "    .dataframe tbody tr th {\n",
       "        vertical-align: top;\n",
       "    }\n",
       "\n",
       "    .dataframe thead th {\n",
       "        text-align: right;\n",
       "    }\n",
       "</style>\n",
       "<table border=\"1\" class=\"dataframe\">\n",
       "  <thead>\n",
       "    <tr style=\"text-align: right;\">\n",
       "      <th></th>\n",
       "      <th>day</th>\n",
       "      <th>month</th>\n",
       "      <th>shipping_status</th>\n",
       "      <th>fulfilment</th>\n",
       "      <th>shipping_type</th>\n",
       "      <th>dress_type</th>\n",
       "      <th>size</th>\n",
       "      <th>items_number</th>\n",
       "      <th>amount</th>\n",
       "      <th>city</th>\n",
       "      <th>state</th>\n",
       "    </tr>\n",
       "  </thead>\n",
       "  <tbody>\n",
       "    <tr>\n",
       "      <th>0</th>\n",
       "      <td>Saturday</td>\n",
       "      <td>april</td>\n",
       "      <td>cancelled</td>\n",
       "      <td>Merchant</td>\n",
       "      <td>Standard</td>\n",
       "      <td>set</td>\n",
       "      <td>S</td>\n",
       "      <td>1</td>\n",
       "      <td>647.62</td>\n",
       "      <td>MUMBAI</td>\n",
       "      <td>MAHARASHTRA</td>\n",
       "    </tr>\n",
       "    <tr>\n",
       "      <th>1</th>\n",
       "      <td>Saturday</td>\n",
       "      <td>april</td>\n",
       "      <td>shipped</td>\n",
       "      <td>Merchant</td>\n",
       "      <td>Standard</td>\n",
       "      <td>traditional</td>\n",
       "      <td>3XL</td>\n",
       "      <td>1</td>\n",
       "      <td>406.00</td>\n",
       "      <td>BENGALURU</td>\n",
       "      <td>KARNATAKA</td>\n",
       "    </tr>\n",
       "    <tr>\n",
       "      <th>2</th>\n",
       "      <td>Saturday</td>\n",
       "      <td>april</td>\n",
       "      <td>shipped</td>\n",
       "      <td>Amazon</td>\n",
       "      <td>Expedited</td>\n",
       "      <td>traditional</td>\n",
       "      <td>XL</td>\n",
       "      <td>1</td>\n",
       "      <td>329.00</td>\n",
       "      <td>NAVI MUMBAI</td>\n",
       "      <td>MAHARASHTRA</td>\n",
       "    </tr>\n",
       "    <tr>\n",
       "      <th>3</th>\n",
       "      <td>Saturday</td>\n",
       "      <td>april</td>\n",
       "      <td>cancelled</td>\n",
       "      <td>Merchant</td>\n",
       "      <td>Standard</td>\n",
       "      <td>others</td>\n",
       "      <td>L</td>\n",
       "      <td>1</td>\n",
       "      <td>753.33</td>\n",
       "      <td>PUDUCHERRY</td>\n",
       "      <td>PUDUCHERRY</td>\n",
       "    </tr>\n",
       "    <tr>\n",
       "      <th>4</th>\n",
       "      <td>Saturday</td>\n",
       "      <td>april</td>\n",
       "      <td>shipped</td>\n",
       "      <td>Amazon</td>\n",
       "      <td>Expedited</td>\n",
       "      <td>others</td>\n",
       "      <td>3XL</td>\n",
       "      <td>1</td>\n",
       "      <td>574.00</td>\n",
       "      <td>CHENNAI</td>\n",
       "      <td>TAMIL NADU</td>\n",
       "    </tr>\n",
       "    <tr>\n",
       "      <th>...</th>\n",
       "      <td>...</td>\n",
       "      <td>...</td>\n",
       "      <td>...</td>\n",
       "      <td>...</td>\n",
       "      <td>...</td>\n",
       "      <td>...</td>\n",
       "      <td>...</td>\n",
       "      <td>...</td>\n",
       "      <td>...</td>\n",
       "      <td>...</td>\n",
       "      <td>...</td>\n",
       "    </tr>\n",
       "    <tr>\n",
       "      <th>128970</th>\n",
       "      <td>Tuesday</td>\n",
       "      <td>may</td>\n",
       "      <td>shipped</td>\n",
       "      <td>Amazon</td>\n",
       "      <td>Expedited</td>\n",
       "      <td>traditional</td>\n",
       "      <td>XL</td>\n",
       "      <td>1</td>\n",
       "      <td>517.00</td>\n",
       "      <td>HYDERABAD</td>\n",
       "      <td>TELANGANA</td>\n",
       "    </tr>\n",
       "    <tr>\n",
       "      <th>128971</th>\n",
       "      <td>Tuesday</td>\n",
       "      <td>may</td>\n",
       "      <td>shipped</td>\n",
       "      <td>Amazon</td>\n",
       "      <td>Expedited</td>\n",
       "      <td>set</td>\n",
       "      <td>M</td>\n",
       "      <td>1</td>\n",
       "      <td>999.00</td>\n",
       "      <td>GURUGRAM</td>\n",
       "      <td>HARYANA</td>\n",
       "    </tr>\n",
       "    <tr>\n",
       "      <th>128972</th>\n",
       "      <td>Tuesday</td>\n",
       "      <td>may</td>\n",
       "      <td>shipped</td>\n",
       "      <td>Amazon</td>\n",
       "      <td>Expedited</td>\n",
       "      <td>others</td>\n",
       "      <td>XXL</td>\n",
       "      <td>1</td>\n",
       "      <td>690.00</td>\n",
       "      <td>HYDERABAD</td>\n",
       "      <td>TELANGANA</td>\n",
       "    </tr>\n",
       "    <tr>\n",
       "      <th>128973</th>\n",
       "      <td>Tuesday</td>\n",
       "      <td>may</td>\n",
       "      <td>shipped</td>\n",
       "      <td>Amazon</td>\n",
       "      <td>Expedited</td>\n",
       "      <td>set</td>\n",
       "      <td>XS</td>\n",
       "      <td>1</td>\n",
       "      <td>1199.00</td>\n",
       "      <td>Halol</td>\n",
       "      <td>Gujarat</td>\n",
       "    </tr>\n",
       "    <tr>\n",
       "      <th>128974</th>\n",
       "      <td>Tuesday</td>\n",
       "      <td>may</td>\n",
       "      <td>shipped</td>\n",
       "      <td>Amazon</td>\n",
       "      <td>Expedited</td>\n",
       "      <td>set</td>\n",
       "      <td>S</td>\n",
       "      <td>1</td>\n",
       "      <td>696.00</td>\n",
       "      <td>Raipur</td>\n",
       "      <td>CHHATTISGARH</td>\n",
       "    </tr>\n",
       "  </tbody>\n",
       "</table>\n",
       "<p>124330 rows × 11 columns</p>\n",
       "</div>"
      ],
      "text/plain": [
       "             day  month shipping_status fulfilment shipping_type   dress_type  \\\n",
       "0       Saturday  april       cancelled   Merchant      Standard          set   \n",
       "1       Saturday  april         shipped   Merchant      Standard  traditional   \n",
       "2       Saturday  april         shipped     Amazon     Expedited  traditional   \n",
       "3       Saturday  april       cancelled   Merchant      Standard       others   \n",
       "4       Saturday  april         shipped     Amazon     Expedited       others   \n",
       "...          ...    ...             ...        ...           ...          ...   \n",
       "128970   Tuesday    may         shipped     Amazon     Expedited  traditional   \n",
       "128971   Tuesday    may         shipped     Amazon     Expedited          set   \n",
       "128972   Tuesday    may         shipped     Amazon     Expedited       others   \n",
       "128973   Tuesday    may         shipped     Amazon     Expedited          set   \n",
       "128974   Tuesday    may         shipped     Amazon     Expedited          set   \n",
       "\n",
       "       size  items_number   amount         city         state  \n",
       "0         S             1   647.62       MUMBAI   MAHARASHTRA  \n",
       "1       3XL             1   406.00    BENGALURU     KARNATAKA  \n",
       "2        XL             1   329.00  NAVI MUMBAI   MAHARASHTRA  \n",
       "3         L             1   753.33   PUDUCHERRY    PUDUCHERRY  \n",
       "4       3XL             1   574.00      CHENNAI    TAMIL NADU  \n",
       "...     ...           ...      ...          ...           ...  \n",
       "128970   XL             1   517.00    HYDERABAD     TELANGANA  \n",
       "128971    M             1   999.00     GURUGRAM       HARYANA  \n",
       "128972  XXL             1   690.00    HYDERABAD     TELANGANA  \n",
       "128973   XS             1  1199.00        Halol       Gujarat  \n",
       "128974    S             1   696.00       Raipur  CHHATTISGARH  \n",
       "\n",
       "[124330 rows x 11 columns]"
      ]
     },
     "execution_count": 93,
     "metadata": {},
     "output_type": "execute_result"
    }
   ],
   "source": [
    "df_statistics"
   ]
  },
  {
   "cell_type": "code",
   "execution_count": 94,
   "id": "fbfcb426",
   "metadata": {},
   "outputs": [
    {
     "data": {
      "text/plain": [
       "8955"
      ]
     },
     "execution_count": 94,
     "metadata": {},
     "output_type": "execute_result"
    }
   ],
   "source": [
    "df_statistics[\"city\"].nunique()"
   ]
  },
  {
   "cell_type": "code",
   "execution_count": 95,
   "id": "96d2cf27",
   "metadata": {},
   "outputs": [
    {
     "data": {
      "text/plain": [
       "69"
      ]
     },
     "execution_count": 95,
     "metadata": {},
     "output_type": "execute_result"
    }
   ],
   "source": [
    "df_statistics[\"state\"].nunique()"
   ]
  },
  {
   "cell_type": "code",
   "execution_count": 96,
   "id": "f9eab392",
   "metadata": {},
   "outputs": [
    {
     "data": {
      "text/plain": [
       "MAHARASHTRA               21528\n",
       "KARNATAKA                 16216\n",
       "TAMIL NADU                11012\n",
       "TELANGANA                 10642\n",
       "UTTAR PRADESH             10410\n",
       "                          ...  \n",
       "Mizoram                       1\n",
       "rajsthan                      1\n",
       "Punjab/Mohali/Zirakpur        1\n",
       "Rajsthan                      1\n",
       "orissa                        1\n",
       "Name: state, Length: 69, dtype: int64"
      ]
     },
     "execution_count": 96,
     "metadata": {},
     "output_type": "execute_result"
    }
   ],
   "source": [
    "df_statistics[\"state\"].value_counts()"
   ]
  },
  {
   "cell_type": "markdown",
   "id": "c12ecb2e",
   "metadata": {},
   "source": [
    "We have something wierd in this dataset, in india there are 28 states and 8 unions with a total of 36 enities, but here it says 69 states"
   ]
  },
  {
   "cell_type": "markdown",
   "id": "d5360191",
   "metadata": {},
   "source": [
    "The proplem is that **Some values are wriiten in capital litters some are not** So i will try to fix this proplem by changing all the values to lower case letters"
   ]
  },
  {
   "cell_type": "markdown",
   "id": "b14d1b42",
   "metadata": {},
   "source": [
    "## Questions\n",
    "\n",
    "<br>**- is dress type affected by state**\n",
    "<br>**- What is the avergae amount in each state**\n",
    "<br>**- Is there a brefered shipping type in states**\n",
    "<br>**- Is there a size in each state**"
   ]
  },
  {
   "cell_type": "code",
   "execution_count": 106,
   "id": "daceb0e8",
   "metadata": {},
   "outputs": [
    {
     "data": {
      "text/plain": [
       "'telangana'"
      ]
     },
     "execution_count": 106,
     "metadata": {},
     "output_type": "execute_result"
    }
   ],
   "source": [
    "df_statistics[\"state\"].iloc[110]"
   ]
  },
  {
   "cell_type": "code",
   "execution_count": null,
   "id": "5c160a3a",
   "metadata": {},
   "outputs": [
    {
     "name": "stderr",
     "output_type": "stream",
     "text": [
      "C:\\Users\\HP\\AppData\\Local\\Temp\\ipykernel_8128\\2186273573.py:10: SettingWithCopyWarning: \n",
      "A value is trying to be set on a copy of a slice from a DataFrame\n",
      "\n",
      "See the caveats in the documentation: https://pandas.pydata.org/pandas-docs/stable/user_guide/indexing.html#returning-a-view-versus-a-copy\n",
      "  df_statistics[\"state\"].iloc[index] = df_statistics[\"state\"].iloc[index].lower()\n"
     ]
    }
   ],
   "source": [
    "#This for loop will change all the values to lower case\n",
    "start_time = time.time()\n",
    "\n",
    "error_index_list = []\n",
    "error_values_list = []\n",
    "\n",
    "for index in range(len(df_statistics)):\n",
    "    \n",
    "    try:\n",
    "        df_statistics[\"state\"].iloc[index] = df_statistics[\"state\"].iloc[index].lower()\n",
    "    except:\n",
    "        error_index_list.append(index)\n",
    "        error_values_list.append(df_statistics[\"state\"].iloc[index])\n",
    "        continue\n",
    "      \n",
    "    \n",
    "end_time = time.time()\n",
    "\n",
    "print(\"this took {} seconds.\".format(end_time - start_time))"
   ]
  },
  {
   "cell_type": "code",
   "execution_count": 98,
   "id": "ddd64b06",
   "metadata": {},
   "outputs": [
    {
     "data": {
      "text/plain": [
       "maharashtra               20765\n",
       "karnataka                 15572\n",
       "tamil nadu                10565\n",
       "telangana                 10215\n",
       "uttar pradesh             10010\n",
       "                          ...  \n",
       "pondicherry                   1\n",
       "apo                           1\n",
       "pb                            1\n",
       "punjab/mohali/zirakpur        1\n",
       "Chandigarh                    1\n",
       "Name: state, Length: 88, dtype: int64"
      ]
     },
     "execution_count": 98,
     "metadata": {},
     "output_type": "execute_result"
    }
   ],
   "source": [
    "df_statistics[\"state\"].value_counts()"
   ]
  },
  {
   "cell_type": "code",
   "execution_count": 100,
   "id": "b41e253d",
   "metadata": {},
   "outputs": [
    {
     "data": {
      "text/plain": [
       "4485"
      ]
     },
     "execution_count": 100,
     "metadata": {},
     "output_type": "execute_result"
    }
   ],
   "source": [
    "len(error_list)"
   ]
  },
  {
   "cell_type": "code",
   "execution_count": null,
   "id": "1c14db05",
   "metadata": {},
   "outputs": [],
   "source": []
  }
 ],
 "metadata": {
  "kernelspec": {
   "display_name": "Python [conda env:new] *",
   "language": "python",
   "name": "conda-env-new-py"
  },
  "language_info": {
   "codemirror_mode": {
    "name": "ipython",
    "version": 3
   },
   "file_extension": ".py",
   "mimetype": "text/x-python",
   "name": "python",
   "nbconvert_exporter": "python",
   "pygments_lexer": "ipython3",
   "version": "3.8.15"
  }
 },
 "nbformat": 4,
 "nbformat_minor": 5
}
